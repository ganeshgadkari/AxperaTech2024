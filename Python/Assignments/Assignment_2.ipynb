{
 "cells": [
  {
   "cell_type": "markdown",
   "id": "5cfbfeb6-517f-4fe7-a9d5-f018336f8949",
   "metadata": {},
   "source": [
    "<center>Ganesh Gadkari</center>\n",
    "\n",
    "# <center><H1>ASSIGNMENT NO. 2</center></H1>"
   ]
  },
  {
   "cell_type": "markdown",
   "id": "7175909e-185c-4f76-ac53-eea4859babe8",
   "metadata": {},
   "source": [
    "## 1. Difference between index and find method of list?"
   ]
  },
  {
   "cell_type": "markdown",
   "id": "2f1743e5-bae0-4c6a-b38b-308d9355d3fb",
   "metadata": {},
   "source": [
    "In Python, both index() and find() are methods used to search for elements within collections, but there are some key differences:\n",
    "\n",
    "    1. index() Method (for lists and other sequences)\n",
    "        Applies to: Lists, strings, tuples, etc.\n",
    "        Function: Returns the index of the first occurrence of the specified element in the list.\n",
    "        Usage: list.index(element)\n",
    "        Error Handling: Raises a ValueError if the element is not found.\n",
    "        Example:\n",
    "        my_list = [1, 2, 3, 4, 2]\n",
    "        print(my_list.index(2))  # Output: 1\n",
    "        Use Case: Works specifically on Python list (and other sequence types like strings).\n",
    "\n",
    "    2. find() Method (for strings only)\n",
    "        Applies to: Strings.\n",
    "        Function: Returns the index of the first occurrence of the specified substring.\n",
    "        Usage: string.find(substring)\n",
    "        Error Handling: Returns -1 if the substring is not found (instead of raising an error).\n",
    "        Example:\n",
    "        python\n",
    "        Copy code\n",
    "        my_string = \"hello world\"\n",
    "        print(my_string.find(\"world\"))  # Output: 6\n",
    "        Use Case: Can only be used with strings, not lists.\n",
    "\n",
    "    Key Differences:\n",
    "    index() works with lists (and other sequences) and raises an error if the element is not found.\n",
    "    find() works only with strings and returns -1 if the substring is not found, making it more forgiving in terms of error handling."
   ]
  },
  {
   "cell_type": "code",
   "execution_count": 4,
   "id": "6f4542d7-048f-449e-82d9-732352dac703",
   "metadata": {},
   "outputs": [
    {
     "name": "stdout",
     "output_type": "stream",
     "text": [
      "1\n"
     ]
    }
   ],
   "source": [
    "my_list = [1, 2, 3, 4, 2]\n",
    "print(my_list.index(2))"
   ]
  },
  {
   "cell_type": "code",
   "execution_count": 7,
   "id": "92e5921e-678b-4390-a4c7-952bed3bd4cf",
   "metadata": {},
   "outputs": [
    {
     "name": "stdout",
     "output_type": "stream",
     "text": [
      "6\n",
      "6\n"
     ]
    }
   ],
   "source": [
    "my_string = \"hello world\"\n",
    "print(my_string.find(\"world\"))\n",
    "print(my_string.index(\"world\"))"
   ]
  },
  {
   "cell_type": "markdown",
   "id": "2ec28422-9221-4321-bb66-c55d684e3927",
   "metadata": {},
   "source": [
    "## 2. Sort the list in descending order? What is the difference between sort and sorted method?"
   ]
  },
  {
   "cell_type": "code",
   "execution_count": 12,
   "id": "45e1f38d-560f-4c14-b894-f9c6497855fc",
   "metadata": {},
   "outputs": [
    {
     "name": "stdout",
     "output_type": "stream",
     "text": [
      "Orignal list :  [3, 1, 4, 1, 5, 9]\n",
      "Sorted list :  [9, 5, 4, 3, 1, 1]\n"
     ]
    }
   ],
   "source": [
    "'''\n",
    "Difference Between sort() and sorted():\n",
    "    1. sort() Method\n",
    "        Applies to: Lists only.\n",
    "        In-place: Modifies the original list. No new list is created.\n",
    "        Usage: list.sort()\n",
    "        Return Value: Returns None. The original list is changed.\n",
    "        Example:\n",
    "\n",
    "        Sorting a List in Descending Order using sort():\n",
    "'''\n",
    "\n",
    "my_list = [3, 1, 4, 1, 5, 9]\n",
    "print('Orignal list : ', my_list)\n",
    "\n",
    "my_list.sort(reverse=True)\n",
    "print('Sorted list : ', my_list)"
   ]
  },
  {
   "cell_type": "code",
   "execution_count": 13,
   "id": "e86e1e95-aff4-4149-a4b6-3e637ae0f981",
   "metadata": {},
   "outputs": [
    {
     "name": "stdout",
     "output_type": "stream",
     "text": [
      "Orignal list :  [3, 1, 4, 1, 5, 9]\n",
      "Sorted list :  [9, 5, 4, 3, 1, 1]\n"
     ]
    }
   ],
   "source": [
    "'''\n",
    "    2. sorted() Function\n",
    "        Applies to: Any iterable (lists, tuples, strings, etc.).\n",
    "        Creates a new list: Returns a new sorted list, leaving the original list unchanged.\n",
    "        Usage: sorted(iterable)\n",
    "        Return Value: Returns a new sorted list (copy of the original sorted).\n",
    "        Example:\n",
    "        Sorting a List in Descending Order using sorted():\n",
    "'''\n",
    "\n",
    "my_list = [3, 1, 4, 1, 5, 9]\n",
    "print('Orignal list : ', my_list)\n",
    "\n",
    "sorted_list = sorted(my_list, reverse=True)\n",
    "print('Sorted list : ', sorted_list)"
   ]
  },
  {
   "cell_type": "markdown",
   "id": "2d5a4b57-6caf-4435-93ed-10ecf2003519",
   "metadata": {},
   "source": [
    "Key Differences:\n",
    "    In-place vs. Copy: sort() sorts the list in place, modifying the original list, while sorted() returns a new sorted list, leaving the original one unchanged.<br>\n",
    "    Usage: sort() can only be used with lists, whereas sorted() works with any iterable (e.g., lists, tuples, strings)."
   ]
  },
  {
   "cell_type": "markdown",
   "id": "334dafd9-d17d-4865-9482-2a80418d86ca",
   "metadata": {},
   "source": [
    "## 3. How to merge the two lists? Give me at least 3 ways?"
   ]
  },
  {
   "cell_type": "code",
   "execution_count": 18,
   "id": "7943ff03-aebf-4dac-9778-1bfc07f21479",
   "metadata": {},
   "outputs": [
    {
     "name": "stdout",
     "output_type": "stream",
     "text": [
      "list1 :  [1, 2, 3]\n",
      "list2 :  [4, 5, 6]\n",
      "merged_list :  [1, 2, 3, 4, 5, 6]\n"
     ]
    }
   ],
   "source": [
    "# 1. Using the + Operator\n",
    "\n",
    "list1 = [1, 2, 3]\n",
    "list2 = [4, 5, 6]\n",
    "merged_list = list1 + list2\n",
    "print('list1 : ', list1)\n",
    "print('list2 : ', list2)\n",
    "print('merged_list : ', merged_list)"
   ]
  },
  {
   "cell_type": "code",
   "execution_count": 24,
   "id": "90ccb655-0986-4e0d-8274-964edfff5cec",
   "metadata": {},
   "outputs": [
    {
     "name": "stdout",
     "output_type": "stream",
     "text": [
      "list1 :  [1, 2, 3]\n",
      "list2 :  [4, 5, 6]\n",
      "merged_list :  [1, 2, 3, 4, 5, 6]\n"
     ]
    }
   ],
   "source": [
    "# 2. Using the extend() Method\n",
    "\n",
    "list1 = [1, 2, 3]\n",
    "list2 = [4, 5, 6]\n",
    "\n",
    "print('list1 : ', list1)\n",
    "list1.extend(list2)\n",
    "\n",
    "print('list2 : ', list2)\n",
    "print('merged_list : ', list1)"
   ]
  },
  {
   "cell_type": "code",
   "execution_count": 29,
   "id": "b723515a-4d10-4597-b12b-801f323f4fbf",
   "metadata": {},
   "outputs": [
    {
     "name": "stdout",
     "output_type": "stream",
     "text": [
      "list1 :  [1, 2, 3]\n",
      "list2 :  [4, 5, 6]\n",
      "merged_list :  [1, 2, 3, 4, 5, 6]\n"
     ]
    }
   ],
   "source": [
    "# 3. Using List Comprehension :\n",
    "\n",
    "list1 = [1, 2, 3]\n",
    "list2 = [4, 5, 6]\n",
    "print('list1 : ', list1)\n",
    "print('list2 : ', list2)\n",
    "\n",
    "merged_list = [item for item in list1] + [item for item in list2]\n",
    "print('merged_list : ', merged_list)"
   ]
  },
  {
   "cell_type": "code",
   "execution_count": 28,
   "id": "3c3af354-389d-47a2-a631-a93a62521640",
   "metadata": {},
   "outputs": [
    {
     "name": "stdout",
     "output_type": "stream",
     "text": [
      "list1 :  [1, 2, 3]\n",
      "list2 :  [4, 5, 6]\n",
      "merged_list :  [1, 2, 3, 4, 5, 6]\n"
     ]
    }
   ],
   "source": [
    "# 4. Using Loop :\n",
    "\n",
    "list1 = [1, 2, 3]\n",
    "list2 = [4, 5, 6]\n",
    "print('list1 : ', list1)\n",
    "print('list2 : ', list2)\n",
    "\n",
    "merged_list = []\n",
    "for item in list1:\n",
    "    merged_list.append(item)\n",
    "for item in list2:\n",
    "    merged_list.append(item)\n",
    "print('merged_list : ', merged_list)"
   ]
  },
  {
   "cell_type": "code",
   "execution_count": 30,
   "id": "df49415a-d4ec-470b-870f-fcdd609277c3",
   "metadata": {},
   "outputs": [
    {
     "name": "stdout",
     "output_type": "stream",
     "text": [
      "list1 :  [1, 2, 3]\n",
      "list2 :  [4, 5, 6]\n",
      "merged_list :  [1, 2, 3, 4, 5, 6]\n"
     ]
    }
   ],
   "source": [
    "# 5. Using the * Operator :\n",
    "\n",
    "list1 = [1, 2, 3]\n",
    "list2 = [4, 5, 6]\n",
    "print('list1 : ', list1)\n",
    "print('list2 : ', list2)\n",
    "\n",
    "merged_list = [*list1, *list2]\n",
    "print('merged_list : ', merged_list)"
   ]
  },
  {
   "cell_type": "markdown",
   "id": "072935b8-2807-4fb4-aedb-f2fe67b2f00e",
   "metadata": {},
   "source": [
    "## 4. Convert the list elements e.g fruits in uppercase letters.\n",
    "    Note: Use for loop and list comprehension.\n",
    "    Input: ['Banana','Kiwi','Apple', 'PineApple','Orange', 'Grapes']\n",
    "    Output: ['BANANA', 'KIWI','APPLE', 'PINEAPPLE','ORANGE','GRAPES']"
   ]
  },
  {
   "cell_type": "code",
   "execution_count": 35,
   "id": "94263bcc-37d1-43d2-b0b7-d5f8206527c9",
   "metadata": {},
   "outputs": [
    {
     "name": "stdout",
     "output_type": "stream",
     "text": [
      "Orignal list :  ['Banana', 'Kiwi', 'Apple', 'PineApple', 'Orange', 'Grapes']\n",
      "Uppercase list :  ['BANANA', 'KIWI', 'APPLE', 'PINEAPPLE', 'ORANGE', 'GRAPES']\n"
     ]
    }
   ],
   "source": [
    "l=['Banana','Kiwi','Apple', 'PineApple','Orange', 'Grapes']\n",
    "print('Orignal list : ', l)\n",
    "print('Uppercase list : ', [i.upper() for i in l])    # List Comprehension"
   ]
  },
  {
   "cell_type": "markdown",
   "id": "fbb36691-a677-448e-a98e-c728d1761be0",
   "metadata": {},
   "source": [
    "## 5. Given a list, split it into two separate lists from the halfway point. If the list has an odd number of elements, include the middle element in the first list.\n",
    "    Original_list=[1,2,3,4,5,6,7]\n",
    "    Expected Output:\n",
    "    Lst_first_half=[1,2,3,4]\n",
    "    Lst_seconf_half=[5,6,7]"
   ]
  },
  {
   "cell_type": "code",
   "execution_count": 69,
   "id": "f0b89ec3-3321-41c4-8d2b-aad3c1e3aaf6",
   "metadata": {},
   "outputs": [
    {
     "name": "stdout",
     "output_type": "stream",
     "text": [
      "Original_list :  [1, 2, 3, 4, 5, 6, 7]\n",
      "Lst_first_half :  [1, 2, 3, 4]\n",
      "Lst_second_half :  [5, 6, 7]\n"
     ]
    }
   ],
   "source": [
    "og_list=[1,2,3,4,5,6,7]\n",
    "mid=round(len(og_list)/2)\n",
    "\n",
    "Lst_first_half=og_list[:mid]\n",
    "Lst_second_half=og_list[mid:]\n",
    "print('Original_list : ', og_list)\n",
    "print('Lst_first_half : ', Lst_first_half)\n",
    "print('Lst_second_half : ', Lst_second_half)"
   ]
  },
  {
   "cell_type": "markdown",
   "id": "9718041b-bc39-44d1-8069-e2cf937a87bd",
   "metadata": {},
   "source": [
    "## 6. Given a list, rotate (or shuffle) its elements by nth positions to the left. After the shift, elements that are moved out from the beginning of the list should appear at the end.\n",
    "    Original_list=['a','b','c','d','e']\n",
    "    n=2\n",
    "    Expected Output:\n",
    "    Shuffled_list=['c','d','e','a','b']"
   ]
  },
  {
   "cell_type": "code",
   "execution_count": 49,
   "id": "9b108461-175a-45cc-b2a7-a6737976c6be",
   "metadata": {},
   "outputs": [
    {
     "name": "stdout",
     "output_type": "stream",
     "text": [
      "['c', 'd', 'e', 'a', 'b']\n"
     ]
    }
   ],
   "source": [
    "l=['a','b','c','d','e']\n",
    "n=2\n",
    "\n",
    "print(l[n:]+l[:n])"
   ]
  },
  {
   "cell_type": "markdown",
   "id": "4a42b6c3-b07b-4c07-878d-ab8b06252690",
   "metadata": {},
   "source": [
    "## 7. Given a list, write a python program to create two lists: one with unique values and another with duplicate values.\n",
    "    Original_list=[1,2,3,2,4,5,1]\n",
    "    Expected Output:\n",
    "    Unique_list=[3,4,5]\n",
    "    Duplicate_list=[1,2,2,1]\n",
    "    Note-Use list comprehension"
   ]
  },
  {
   "cell_type": "code",
   "execution_count": 13,
   "id": "49013d46-4985-4a93-9561-4ea85f3d8af2",
   "metadata": {},
   "outputs": [
    {
     "name": "stdout",
     "output_type": "stream",
     "text": [
      "Orignal list =  [1, 2, 3, 2, 4, 5, 1]\n",
      "Unique list =  [3, 4, 5]\n",
      "Duplicate List =  [1, 2, 2, 1]\n"
     ]
    }
   ],
   "source": [
    "og = [1,2,3,2,4,5,1]\n",
    "unique=[]\n",
    "duplicate=[]\n",
    "\n",
    "for i in og:\n",
    "    if og.count(i)>1 in list(set(og)):\n",
    "        duplicate.append(i)\n",
    "    else:\n",
    "        unique.append(i)\n",
    "        \n",
    "print('Orignal list = ', og)\n",
    "print('Unique list = ', unique)\n",
    "print('Duplicate List = ', duplicate)"
   ]
  },
  {
   "cell_type": "code",
   "execution_count": 15,
   "id": "49346e90-1728-4949-8f7d-d328e03a022d",
   "metadata": {},
   "outputs": [
    {
     "name": "stdout",
     "output_type": "stream",
     "text": [
      "Orignal list =  [1, 2, 3, 2, 4, 5, 1]\n",
      "Unique list =  [3, 4, 5]\n",
      "Duplicate List =  [1, 2, 2, 1]\n"
     ]
    }
   ],
   "source": [
    "# Using List Comprehension\n",
    "\n",
    "og = [1,2,3,2,4,5,1]\n",
    "duplicate =[i for i in og if og.count(i)>1 in list(set(og))]\n",
    "unique=[i for i in og if og.count(i)==1 in list(set(og))]\n",
    "print('Orignal list = ', og)\n",
    "print('Unique list = ', unique)\n",
    "print('Duplicate List = ', duplicate)"
   ]
  },
  {
   "cell_type": "markdown",
   "id": "a1c2cb6b-73e9-4444-a61f-f5cc2149d2b5",
   "metadata": {},
   "source": [
    "## 8. Given a list, write a python program to create two lists: one with unique values and another with duplicate values.\n",
    "    Original list=[1,2,3,2,4,5,1]\n",
    "    Expected Output:\n",
    "    Unique_list=[3,4,5]\n",
    "    Duplicate_lis=[1,2]"
   ]
  },
  {
   "cell_type": "code",
   "execution_count": 17,
   "id": "9d9cf439-5d22-4775-99a9-76a7074b6700",
   "metadata": {},
   "outputs": [
    {
     "name": "stdout",
     "output_type": "stream",
     "text": [
      "Orignal list =  [1, 2, 3, 2, 4, 5, 1]\n",
      "Unique list =  [3, 4, 5]\n",
      "Duplicate List =  [1, 2]\n"
     ]
    }
   ],
   "source": [
    "og = [1,2,3,2,4,5,1]\n",
    "unique=[]\n",
    "duplicate=[]\n",
    "\n",
    "for i in og:\n",
    "    if og.count(i)>1 in list(set(og)):\n",
    "        duplicate.append(i)\n",
    "    else:\n",
    "        unique.append(i)\n",
    "        \n",
    "print('Orignal list = ', og)\n",
    "print('Unique list = ', unique)\n",
    "print('Duplicate List = ', list(set(duplicate)))"
   ]
  },
  {
   "cell_type": "code",
   "execution_count": 18,
   "id": "8ad2164a-10b5-437c-953e-35a92dfb774c",
   "metadata": {},
   "outputs": [
    {
     "name": "stdout",
     "output_type": "stream",
     "text": [
      "Orignal list =  [1, 2, 3, 2, 4, 5, 1]\n",
      "Unique list =  [3, 4, 5]\n",
      "Duplicate List =  [1, 2]\n"
     ]
    }
   ],
   "source": [
    "# Using List Comprehension\n",
    "\n",
    "og = [1,2,3,2,4,5,1]\n",
    "duplicate =[i for i in og if og.count(i)>1 in list(set(og))]\n",
    "unique=[i for i in og if og.count(i)==1 in list(set(og))]\n",
    "print('Orignal list = ', og)\n",
    "print('Unique list = ', unique)\n",
    "print('Duplicate List = ', list(set(duplicate)))"
   ]
  },
  {
   "cell_type": "markdown",
   "id": "df9eaba5-2e0e-4468-a02c-a4939455b051",
   "metadata": {},
   "source": [
    "## 9. Given a list of lists, write a python program to flatten it into a single list containing all the elements of the nested lists.\n",
    "    Nested_list=[[1,2],[3,4],[5,6]]\n",
    "    Expected Output=[1,2,3,4,5,6]"
   ]
  },
  {
   "cell_type": "code",
   "execution_count": 20,
   "id": "f0954161-f955-41e8-8efa-76357a026fa0",
   "metadata": {},
   "outputs": [
    {
     "name": "stdout",
     "output_type": "stream",
     "text": [
      "Nested_list =  [[1, 2], [3, 4], [5, 6]]\n",
      "Expected =  [1, 2, 3, 4, 5, 6]\n"
     ]
    }
   ],
   "source": [
    "l1=[[1,2],[3,4],[5,6]]\n",
    "l2=[]\n",
    "\n",
    "for i in l1:\n",
    "    for j in i:\n",
    "        l2.append(j)\n",
    "\n",
    "print('Nested_list = ', l1)\n",
    "print('Expected = ',l2)"
   ]
  },
  {
   "cell_type": "markdown",
   "id": "7a1ad3d4-9244-431e-9c88-38a624ee085b",
   "metadata": {},
   "source": [
    "## 10. Given a list of integers, write a Python program to compute the sum of elements at even indices and odd indices separately.\n",
    "    • list=[1, 2, 3, 4, 5]\n",
    "    • Expected Output:Sum of even index elements: 1+3+5=9\n",
    "    • Sum of odd index elements: 2 +4=6\n",
    "    • Note: Use List comprehension."
   ]
  },
  {
   "cell_type": "code",
   "execution_count": 32,
   "id": "468e0698-84bf-4e1d-a6bc-0add2f30fb0b",
   "metadata": {},
   "outputs": [
    {
     "name": "stdout",
     "output_type": "stream",
     "text": [
      "Sum of even index elements:  9\n",
      "Sum of odd index elements:  6\n"
     ]
    }
   ],
   "source": [
    "l=[1, 2, 3, 4, 5]\n",
    "\n",
    "even = 0\n",
    "odd = 0\n",
    "\n",
    "for i in l[::2]:\n",
    "    even+=i\n",
    "for i in l[1::2]:\n",
    "    odd+=i\n",
    "    \n",
    "print('Sum of even index elements: ', even)\n",
    "print('Sum of odd index elements: ', odd)"
   ]
  },
  {
   "cell_type": "code",
   "execution_count": 2,
   "id": "d2cd5387-ec10-4206-9ab8-169538a0401a",
   "metadata": {},
   "outputs": [
    {
     "name": "stdout",
     "output_type": "stream",
     "text": [
      "Sum of even index elements:  9\n",
      "Sum of odd index elements:  6\n"
     ]
    }
   ],
   "source": [
    "# Using List Comprehension\n",
    "\n",
    "l=[1, 2, 3, 4, 5]\n",
    "\n",
    "even = sum([i for i in l[::2]])\n",
    "odd = sum([i for i in l[1::2]])\n",
    "\n",
    "print('Sum of even index elements: ', even)\n",
    "print('Sum of odd index elements: ', odd)"
   ]
  },
  {
   "cell_type": "code",
   "execution_count": 34,
   "id": "0bedcca6-dc82-41ef-af51-d4644702d61b",
   "metadata": {},
   "outputs": [
    {
     "name": "stdout",
     "output_type": "stream",
     "text": [
      "Sum of even index elements: 9\n",
      "Sum of odd index elements: 6\n"
     ]
    }
   ],
   "source": [
    "lst = [1, 2, 3, 4, 5]\n",
    "\n",
    "even = sum([lst[i] for i in range(len(lst)) if i % 2 == 0])\n",
    "odd = sum([lst[i] for i in range(len(lst)) if i % 2 != 0])\n",
    "\n",
    "print(f\"Sum of even index elements: {even}\")\n",
    "print(f\"Sum of odd index elements: {odd}\")"
   ]
  },
  {
   "cell_type": "markdown",
   "id": "e9e8d2c7-0f97-4a1a-a492-f242dab0ad66",
   "metadata": {},
   "source": [
    "## 11. You are developing a system to manage employee records where each employee's information is stored as a tuple with (employee_id, name, department, salary). Write a Python program to:\n",
    "    • Add a new employee record to the list of tuples.\n",
    "    • Remove an employee record by employee_id.\n",
    "    • Update the salary for a specific employee_id.\n",
    "    • Find and print the employee with the highest salary.\n",
    "    • employees = [(101, 'Alice', 'HR', 50000), (102, 'Bob', 'IT', 60000), (103, 'Charlie', 'Finance', 70000)]"
   ]
  },
  {
   "cell_type": "code",
   "execution_count": 9,
   "id": "068f8ffd-1317-46e5-b368-9aba2e9de144",
   "metadata": {
    "editable": true,
    "slideshow": {
     "slide_type": ""
    },
    "tags": []
   },
   "outputs": [
    {
     "name": "stdout",
     "output_type": "stream",
     "text": [
      "Original employee records list:\n",
      " [(101, 'Alice', 'HR', 50000), (102, 'Bob', 'IT', 60000), (103, 'Charlie', 'Finance', 70000)]\n",
      "After adding new employee record:\n",
      " [(101, 'Alice', 'HR', 50000), (102, 'Bob', 'IT', 60000), (103, 'Charlie', 'Finance', 70000), (104, 'Julie', 'Production', 80000)]\n",
      "After removing employee record using employee_id:\n",
      " [(101, 'Alice', 'HR', 50000), (102, 'Bob', 'IT', 60000), (103, 'Charlie', 'Finance', 70000)]\n",
      "After updating the salary for a specific employee_id:\n",
      " [(101, 'Alice', 'HR', 50000), (102, 'Bob', 'IT', 60000), (103, 'Charlie', 'Finance', 80000)]\n",
      "Employee with the highest salary: (103, 'Charlie', 'Finance', 80000)\n"
     ]
    }
   ],
   "source": [
    "def main():\n",
    "    employees = [(101, 'Alice', 'HR', 50000), (102, 'Bob', 'IT', 60000), (103, 'Charlie', 'Finance', 70000)]\n",
    "    print('Original employee records list:\\n', employees)\n",
    "    add_record(employees, (104, 'Julie', 'Production', 80000))\n",
    "    remove_record(employees, 104)\n",
    "    update_record(employees, 103, 80000)\n",
    "    find_highest_salary(employees)\n",
    "\n",
    "# Add a new employee record to the list of tuples.\n",
    "def add_record(employees, new_employee):\n",
    "    employees.append(new_employee)\n",
    "    print('After adding new employee record:\\n', employees)\n",
    "\n",
    "# Remove an employee record by employee_id.\n",
    "def remove_record(employees, emp_id):\n",
    "    for employee in employees:\n",
    "        if employee[0] == emp_id:\n",
    "            employees.remove(employee)\n",
    "            break  # Exit the loop after removing the employee\n",
    "    print('After removing employee record using employee_id:\\n', employees)\n",
    "\n",
    "# Update the salary for a specific employee_id.\n",
    "def update_record(employees, emp_id, new_salary):\n",
    "    for i, employee in enumerate(employees):  # enumerate() generates a pair of (index, element) for each item in the list.\n",
    "        if employee[0] == emp_id:\n",
    "            employees[i] = (employee[0], employee[1], employee[2], new_salary)\n",
    "            break  # Exit the loop after updating the salary\n",
    "    print('After updating the salary for a specific employee_id:\\n', employees)\n",
    "\n",
    "# Find and print the employee with the highest salary.\n",
    "def find_highest_salary(employees):\n",
    "    max_sal = 0\n",
    "    for employee in employees:\n",
    "        if employee[3] > max_sal:\n",
    "            max_sal = employee[3]\n",
    "\n",
    "    for employee in employees:\n",
    "        if employee[3] == max_sal:\n",
    "            print('Employee with the highest salary:', employee)\n",
    "\n",
    "if __name__ == '__main__':\n",
    "    main()\n"
   ]
  },
  {
   "cell_type": "markdown",
   "id": "6c6cafca-5987-4ecb-b335-b58f1efd60b3",
   "metadata": {},
   "source": [
    "## 12. Write a Python program to create a list containing numbers from 1 to 100 without using any Loop. Use appropriate list comprehensions or other python constructs to achieve this.\n",
    "    Expected Output: [1,2,3,4,5,.....,100]"
   ]
  },
  {
   "cell_type": "code",
   "execution_count": 12,
   "id": "8c09da75-2e52-447d-8827-87258c9ea47a",
   "metadata": {},
   "outputs": [
    {
     "name": "stdout",
     "output_type": "stream",
     "text": [
      "[0, 1, 2, 3, 4, 5, 6, 7, 8, 9, 10, 11, 12, 13, 14, 15, 16, 17, 18, 19, 20, 21, 22, 23, 24, 25, 26, 27, 28, 29, 30, 31, 32, 33, 34, 35, 36, 37, 38, 39, 40, 41, 42, 43, 44, 45, 46, 47, 48, 49, 50, 51, 52, 53, 54, 55, 56, 57, 58, 59, 60, 61, 62, 63, 64, 65, 66, 67, 68, 69, 70, 71, 72, 73, 74, 75, 76, 77, 78, 79, 80, 81, 82, 83, 84, 85, 86, 87, 88, 89, 90, 91, 92, 93, 94, 95, 96, 97, 98, 99, 100]\n"
     ]
    }
   ],
   "source": [
    "l=[i for i in range(101)]\n",
    "print(l)"
   ]
  },
  {
   "cell_type": "markdown",
   "id": "2f8fe546-531c-4d52-b1ca-e9c882bbbae2",
   "metadata": {},
   "source": [
    "## 13. Tuples are immutable in python. Given the tuple t=(10,20,30), how would you modify the second element to 25?"
   ]
  },
  {
   "cell_type": "code",
   "execution_count": 24,
   "id": "f1a9dc15-de2e-49d0-9b02-d7948391b533",
   "metadata": {},
   "outputs": [
    {
     "name": "stdout",
     "output_type": "stream",
     "text": [
      "Actual tuple :  (10, 20, 30)\n",
      "Modified tuple :  (10, 25, 30)\n"
     ]
    }
   ],
   "source": [
    "t=(10,20,30)\n",
    "print('Actual tuple : ', t)\n",
    "t=list(t)\n",
    "t[1]=25\n",
    "t=tuple(t)\n",
    "print('Modified tuple : ', t)"
   ]
  },
  {
   "cell_type": "markdown",
   "id": "6ffb90df-3f03-4918-a895-a2233db008f9",
   "metadata": {},
   "source": [
    "## 14. How to create tuple with one value in it?"
   ]
  },
  {
   "cell_type": "raw",
   "id": "1b52690c-b8bd-4d5e-8d0d-080a5798b5e6",
   "metadata": {},
   "source": [
    "To create a tuple with only one value in it, you need to include a trailing comma after the value. This is necessary because, in Python, parentheses alone are not enough to indicate a tuple; they can simply be interpreted as grouping symbols."
   ]
  },
  {
   "cell_type": "code",
   "execution_count": 30,
   "id": "9cd3900c-dfff-445b-8617-662cedfb0721",
   "metadata": {},
   "outputs": [
    {
     "name": "stdout",
     "output_type": "stream",
     "text": [
      "(42,)\n",
      "<class 'tuple'>\n"
     ]
    }
   ],
   "source": [
    "# Creating a tuple with one value\n",
    "single_value_tuple = (42,)  # Note the comma\n",
    "\n",
    "# Print the tuple\n",
    "print(single_value_tuple)\n",
    "print(type(single_value_tuple))  # Check the type to confirm it's a tuple\n"
   ]
  },
  {
   "cell_type": "code",
   "execution_count": 31,
   "id": "b7deaa89-7d6a-4998-8697-53ef125f209f",
   "metadata": {},
   "outputs": [
    {
     "name": "stdout",
     "output_type": "stream",
     "text": [
      "42\n",
      "<class 'int'>\n"
     ]
    }
   ],
   "source": [
    "# Creating a tuple with one value\n",
    "single_value_tuple = (42)  # Note the comma\n",
    "\n",
    "# Print the tuple\n",
    "print(single_value_tuple)\n",
    "print(type(single_value_tuple))  # Check the type to confirm it's a tuple\n"
   ]
  },
  {
   "cell_type": "markdown",
   "id": "214a3746-7526-4911-b0d2-c29f779cece2",
   "metadata": {},
   "source": [
    "## 15. Predict the output of below code\n",
    "    t=10,20,30,40\n",
    "    print(t[1000])"
   ]
  },
  {
   "cell_type": "raw",
   "id": "a4de6611-6ab6-4c29-8ea6-4de4d62d1699",
   "metadata": {},
   "source": [
    "In Python, a tuple can be created without explicitly using parentheses. \n",
    "The syntax for creating a tuple can be either with parentheses or simply by separating values with commas."
   ]
  },
  {
   "cell_type": "code",
   "execution_count": 35,
   "id": "a89a26a7-1a55-4704-88f3-be6e40143c7e",
   "metadata": {},
   "outputs": [
    {
     "ename": "IndexError",
     "evalue": "tuple index out of range",
     "output_type": "error",
     "traceback": [
      "\u001b[1;31m---------------------------------------------------------------------------\u001b[0m",
      "\u001b[1;31mIndexError\u001b[0m                                Traceback (most recent call last)",
      "Cell \u001b[1;32mIn[35], line 2\u001b[0m\n\u001b[0;32m      1\u001b[0m t\u001b[38;5;241m=\u001b[39m\u001b[38;5;241m10\u001b[39m,\u001b[38;5;241m20\u001b[39m,\u001b[38;5;241m30\u001b[39m,\u001b[38;5;241m40\u001b[39m\n\u001b[1;32m----> 2\u001b[0m \u001b[38;5;28mprint\u001b[39m(\u001b[43mt\u001b[49m\u001b[43m[\u001b[49m\u001b[38;5;241;43m1000\u001b[39;49m\u001b[43m]\u001b[49m)\n\u001b[0;32m      3\u001b[0m \u001b[38;5;124;03m'''Since the tuple 't' has only four elements (with valid indices ranging from 0 to 3), \u001b[39;00m\n\u001b[0;32m      4\u001b[0m \u001b[38;5;124;03mtrying to access an index that is out of range (like 1000) will raise an IndexError.'''\u001b[39;00m\n",
      "\u001b[1;31mIndexError\u001b[0m: tuple index out of range"
     ]
    }
   ],
   "source": [
    "t=10,20,30,40\n",
    "print(t[1000])\n",
    "'''Since the tuple 't' has only four elements (with valid indices ranging from 0 to 3), \n",
    "trying to access an index that is out of range (like 1000) will raise an IndexError.'''"
   ]
  },
  {
   "cell_type": "markdown",
   "id": "383de6d2-c41c-431d-a017-868e20382d3d",
   "metadata": {},
   "source": [
    "## 16. is below code execute successfully or will give you the error if it give you the error then which error it will give?\n",
    "\n",
    "    t = (10, 20, 30, 40)\n",
    "    print(t[1000])"
   ]
  },
  {
   "cell_type": "code",
   "execution_count": 2,
   "id": "a63ed642-8540-4617-b8db-8ad0a2206ef5",
   "metadata": {},
   "outputs": [
    {
     "ename": "IndexError",
     "evalue": "tuple index out of range",
     "output_type": "error",
     "traceback": [
      "\u001b[1;31m---------------------------------------------------------------------------\u001b[0m",
      "\u001b[1;31mIndexError\u001b[0m                                Traceback (most recent call last)",
      "Cell \u001b[1;32mIn[2], line 2\u001b[0m\n\u001b[0;32m      1\u001b[0m t \u001b[38;5;241m=\u001b[39m (\u001b[38;5;241m10\u001b[39m, \u001b[38;5;241m20\u001b[39m, \u001b[38;5;241m30\u001b[39m, \u001b[38;5;241m40\u001b[39m)\n\u001b[1;32m----> 2\u001b[0m \u001b[38;5;28mprint\u001b[39m(\u001b[43mt\u001b[49m\u001b[43m[\u001b[49m\u001b[38;5;241;43m1000\u001b[39;49m\u001b[43m]\u001b[49m)\n\u001b[0;32m      3\u001b[0m \u001b[38;5;124;03m'''This code will give an error as IndexError: tuple index out of range,\u001b[39;00m\n\u001b[0;32m      4\u001b[0m \u001b[38;5;124;03mAs the tuple contains only 4 emements with index 0,1,2,3 and we are trying to access the 1000th element which is not present.'''\u001b[39;00m\n",
      "\u001b[1;31mIndexError\u001b[0m: tuple index out of range"
     ]
    }
   ],
   "source": [
    "t = (10, 20, 30, 40)\n",
    "print(t[1000])\n",
    "'''This code will give an error as IndexError: tuple index out of range,\n",
    "As the tuple contains only 4 emements with index 0,1,2,3 and we are trying to access the 1000th element which is not present.'''"
   ]
  },
  {
   "cell_type": "markdown",
   "id": "05ea9443-9c82-4c40-b73d-c315e4ec8d54",
   "metadata": {},
   "source": [
    "## 17. You are given a list of tuples representing coordinates: coordinates = [(1, 2), (3, 4), (5, 6)] . Write a loop that unpacks the values in each tuple and prints them as x, y pairs.\n",
    "    Expected Output\n",
    "    x = 1, y = 2\n",
    "    x = 3, Y = 4\n",
    "    x = 5, y = 6"
   ]
  },
  {
   "cell_type": "code",
   "execution_count": 15,
   "id": "8fa100dc-4b99-485b-b2fc-3e4a7bd6a32e",
   "metadata": {},
   "outputs": [
    {
     "name": "stdout",
     "output_type": "stream",
     "text": [
      "x = 1, y = 2\n",
      "x = 3, y = 4\n",
      "x = 5, y = 6\n"
     ]
    }
   ],
   "source": [
    "l=[(1, 2), (3, 4), (5, 6)]\n",
    "\n",
    "for i,j in l:\n",
    "    print(f'x = {i}, y = {j}')\n"
   ]
  },
  {
   "cell_type": "markdown",
   "id": "58054206-aa0b-40b2-966f-44bf04549dc0",
   "metadata": {},
   "source": [
    "## 18. In a program that requires frequent lookups but no modifications to the data, would you choose a tuple or a list? Why?"
   ]
  },
  {
   "cell_type": "raw",
   "id": "4dafdb39-704b-46fd-b8dc-1034d48bff95",
   "metadata": {},
   "source": [
    "For frequent lookups with no data modification, a tuple is the better choice because of its immutability, performance, and memory efficiency."
   ]
  },
  {
   "cell_type": "markdown",
   "id": "55cc54cb-e51f-4832-b467-0b18a796bacc",
   "metadata": {},
   "source": [
    "## 19. Given a tuple t = (1, 2, 2, 3, 4, 4, 5) write code to remove the duplicates and return a new tuple with unique values."
   ]
  },
  {
   "cell_type": "code",
   "execution_count": 19,
   "id": "5b50388b-14e1-4e06-abe9-b4b170ba329f",
   "metadata": {},
   "outputs": [
    {
     "name": "stdout",
     "output_type": "stream",
     "text": [
      "Given Tuple :  (1, 2, 2, 3, 4, 4, 5)\n",
      "New tuple with Unique values :  {1, 2, 3, 4, 5}\n"
     ]
    }
   ],
   "source": [
    "t = (1, 2, 2, 3, 4, 4, 5)\n",
    "print('Given Tuple : ',t)\n",
    "\n",
    "new_t=set(t)\n",
    "print('New tuple with Unique values : ', new_t)"
   ]
  },
  {
   "cell_type": "markdown",
   "id": "5a727dee-5d7b-43db-9333-269f2bc92d18",
   "metadata": {},
   "source": [
    "## 20. You have two tuples names = ('Alice', 'Bob') and ages = (25, 30). Write code to combine these tuples into a list of tuples like [(Alice, 25), (Bob, 30)]. Note use zip method"
   ]
  },
  {
   "cell_type": "code",
   "execution_count": 25,
   "id": "9e35757a-36e7-437c-ad8b-fb67f1dda99d",
   "metadata": {},
   "outputs": [
    {
     "name": "stdout",
     "output_type": "stream",
     "text": [
      "[('Alice', 25), ('Bob', 30)]\n"
     ]
    }
   ],
   "source": [
    "names = ('Alice', 'Bob')\n",
    "ages = (25, 30)\n",
    "\n",
    "\n",
    "print(list(zip(names,ages)))"
   ]
  },
  {
   "cell_type": "markdown",
   "id": "e1c2dc10-ca88-4758-8c7d-4cde8171d861",
   "metadata": {},
   "source": [
    "## 21. You are given two sets A = \\{1, 2, 3, 4\\} and B = \\{3, 4, 5, 6\\} Write code to find:\n",
    "    1. The union of A and B.\n",
    "    2. The intersection of A and B.\n",
    "    3. The difference between A and B.\n",
    "    4. The difference between B and A.\n",
    "    5. The difference between A and B. AND The difference between B and A\n",
    "    Note use Operator (1, &, -) as well methods (intersection, union, difference)"
   ]
  },
  {
   "cell_type": "code",
   "execution_count": 34,
   "id": "c5f761ed-8efd-4594-8085-c6276ba04dd0",
   "metadata": {},
   "outputs": [
    {
     "name": "stdout",
     "output_type": "stream",
     "text": [
      "The union of A and B is  {1, 2, 3, 4, 5, 6}\n",
      "The intersection of A and B is  {3, 4}\n",
      "The difference between A and B is  {1, 2}\n",
      "The difference between B and A is  {5, 6}\n",
      "The difference between A and B is {1, 2}\n",
      "The difference between B and A is {5, 6}\n"
     ]
    }
   ],
   "source": [
    "def main():\n",
    "    a = {1, 2, 3, 4}\n",
    "    b = {3, 4, 5, 6}\n",
    "\n",
    "    union(a,b)\n",
    "    intersection(a,b)\n",
    "    print('The difference between A and B is ', difference_ab(a,b))\n",
    "    print('The difference between B and A is ', difference_ba(a,b))\n",
    "    difference_ab_ba(a,b)\n",
    "\n",
    "# 1. The union of A and B.\n",
    "def union(a,b):\n",
    "    print('The union of A and B is ', a.union(b))\n",
    "\n",
    "# 2. The intersection of A and B.\n",
    "def intersection(a,b):\n",
    "    print('The intersection of A and B is ', a.intersection(b))\n",
    "\n",
    "# 3. The difference between A and B.\n",
    "def difference_ab(a,b):\n",
    "    return a.difference(b)\n",
    "\n",
    "# 4. The difference between B and A.\n",
    "def difference_ba(a,b):\n",
    "    return b.difference(a)\n",
    "\n",
    "# 5. The difference between A and B. AND The difference between B and A\n",
    "def difference_ab_ba(a,b):\n",
    "    print('The difference between A and B is', difference_ab(a,b))\n",
    "    print('The difference between B and A is', difference_ba(a,b))\n",
    "\n",
    "if __name__=='__main__':\n",
    "    main()"
   ]
  },
  {
   "cell_type": "code",
   "execution_count": 36,
   "id": "a2358553-a9ee-4c18-b528-1e2cb1d8238f",
   "metadata": {},
   "outputs": [
    {
     "name": "stdout",
     "output_type": "stream",
     "text": [
      "Union (using method): {1, 2, 3, 4, 5, 6}\n",
      "Union (using operator): {1, 2, 3, 4, 5, 6}\n",
      "Intersection (using method): {3, 4}\n",
      "Intersection (using operator): {3, 4}\n",
      "Difference A - B (using method): {1, 2}\n",
      "Difference A - B (using operator): {1, 2}\n",
      "Difference B - A (using method): {5, 6}\n",
      "Difference B - A (using operator): {5, 6}\n",
      "Difference A - B AND B - A:\n",
      "A - B: {1, 2}\n",
      "B - A: {5, 6}\n"
     ]
    }
   ],
   "source": [
    "def main():\n",
    "    A = {1, 2, 3, 4}\n",
    "    B = {3, 4, 5, 6}\n",
    "\n",
    "    # 1. The union of A and B.\n",
    "    print('Union (using method):', A.union(B))  # Using method\n",
    "    print('Union (using operator):', A | B)  # Using operator\n",
    "\n",
    "    # 2. The intersection of A and B.\n",
    "    print('Intersection (using method):', A.intersection(B))  # Using method\n",
    "    print('Intersection (using operator):', A & B)  # Using operator\n",
    "\n",
    "    # 3. The difference between A and B.\n",
    "    print('Difference A - B (using method):', A.difference(B))  # Using method\n",
    "    print('Difference A - B (using operator):', A - B)  # Using operator\n",
    "\n",
    "    # 4. The difference between B and A.\n",
    "    print('Difference B - A (using method):', B.difference(A))  # Using method\n",
    "    print('Difference B - A (using operator):', B - A)  # Using operator\n",
    "\n",
    "    # 5. The difference between A and B. AND The difference between B and A\n",
    "    print('Difference A - B AND B - A:')\n",
    "    print('A - B:', A - B)\n",
    "    print('B - A:', B - A)\n",
    "\n",
    "\n",
    "if __name__ == '__main__':\n",
    "    main()"
   ]
  },
  {
   "cell_type": "markdown",
   "id": "84a54ff2-9857-44be-841b-9b70142f0e17",
   "metadata": {},
   "source": [
    "## 22. Write a function that takes a string of words and returns a set of unique words. For example, the input \"apple orange banana apple\" should return \"apple orange banana\""
   ]
  },
  {
   "cell_type": "code",
   "execution_count": 7,
   "id": "fceb1450-b331-4d2d-9fb6-3d0321d34edf",
   "metadata": {},
   "outputs": [
    {
     "name": "stdout",
     "output_type": "stream",
     "text": [
      "apple orange banana\n",
      "<class 'str'>\n"
     ]
    }
   ],
   "source": [
    "str1 = \"apple orange banana apple\"\n",
    "new_str=' '.join(set(str1.split()))\n",
    "print(new_str)\n",
    "print(type(new_str))"
   ]
  },
  {
   "cell_type": "markdown",
   "id": "c631fbbf-c2d8-49b9-b59d-9bff9d38e295",
   "metadata": {},
   "source": [
    "## 23. you are given two sets A = \\{1, 2, 3\\} and B = \\{1, 2, 3, 4, 5\\} Write code to check if:\n",
    "    A is a subset of B.\n",
    "    B is a subset of A."
   ]
  },
  {
   "cell_type": "code",
   "execution_count": 17,
   "id": "adeef9b6-979f-4971-aa73-d398d761386a",
   "metadata": {},
   "outputs": [
    {
     "name": "stdout",
     "output_type": "stream",
     "text": [
      "A={1, 2, 3} is a subset of B={1, 2, 3, 4, 5}\n",
      "B={1, 2, 3, 4, 5} is not subset of A={1, 2, 3}\n"
     ]
    }
   ],
   "source": [
    "a, b = {1, 2, 3},{1, 2, 3, 4, 5}\n",
    "\n",
    "if a.issubset(b)==True:\n",
    "    print('A={1, 2, 3} is a subset of B={1, 2, 3, 4, 5}')\n",
    "else:\n",
    "    print('A={1, 2, 3} is not subset of B={1, 2, 3, 4, 5}')\n",
    "if b.issubset(a)==1:\n",
    "    print('B={1, 2, 3, 4, 5} is a subset of A={1, 2, 3}')\n",
    "else:\n",
    "    print('B={1, 2, 3, 4, 5} is not subset of A={1, 2, 3}')"
   ]
  },
  {
   "cell_type": "markdown",
   "id": "fd22c221-44c1-435a-afea-afb8f64b4bf0",
   "metadata": {},
   "source": [
    "## 24. Given two sets A={1,2,3} and B={3,4,5} write code to find the symmetric difference (elements in either A or B but not both)\n",
    "    - Expected Output\n",
    "    - {1,2,4,5}"
   ]
  },
  {
   "cell_type": "code",
   "execution_count": 2,
   "id": "da889f3e-77c6-4a11-b6ce-614e9e58c34f",
   "metadata": {},
   "outputs": [
    {
     "name": "stdout",
     "output_type": "stream",
     "text": [
      "{1, 2, 4, 5}\n"
     ]
    }
   ],
   "source": [
    "a={1,2,3}\n",
    "b={3,4,5}\n",
    "\n",
    "print(a.symmetric_difference(b))"
   ]
  },
  {
   "cell_type": "markdown",
   "id": "0be539e3-bdb8-4d6a-b995-fa8101e9c36b",
   "metadata": {},
   "source": [
    "## 25. You have multiple sets A={1,2,3}, B={2,3,4}, and C={3,4,5} write a funcation to find the common elements (intersection) of all there sets.\n",
    "Note -Use only one funcation only once"
   ]
  },
  {
   "cell_type": "code",
   "execution_count": 11,
   "id": "8a02f80c-34e4-4b15-9fa4-8a3d4d8506a2",
   "metadata": {},
   "outputs": [
    {
     "name": "stdout",
     "output_type": "stream",
     "text": [
      "{3}\n"
     ]
    }
   ],
   "source": [
    "a={1,2,3}\n",
    "b={2,3,4}\n",
    "c={3,4,5}\n",
    "\n",
    "print(set.intersection(a,b,c))"
   ]
  },
  {
   "cell_type": "markdown",
   "id": "05d22b5e-f899-421f-87be-3a637cb7bcd7",
   "metadata": {},
   "source": [
    "## 26.Given two lists lst1=[1,2,3] and lst2=[2,3,4] write code to merge them into a single list without duplicate.\n",
    "Output: [1,2,3,4]"
   ]
  },
  {
   "cell_type": "code",
   "execution_count": 18,
   "id": "80f6ec68-89b1-47a4-b679-0b4c8d514918",
   "metadata": {},
   "outputs": [
    {
     "name": "stdout",
     "output_type": "stream",
     "text": [
      "Merged List =  [{1, 2, 3, 4}]\n"
     ]
    }
   ],
   "source": [
    "lst1=[1,2,3]\n",
    "lst2=[2,3,4]\n",
    "\n",
    "l = [set(lst1+lst2)]\n",
    "print('Merged List = ', l)"
   ]
  },
  {
   "cell_type": "markdown",
   "id": "7fbadf6b-048d-4c6b-b517-2f5f88a8578d",
   "metadata": {},
   "source": [
    "## 27. What is difference between remove and discard method?"
   ]
  },
  {
   "cell_type": "raw",
   "id": "3197a270-2b5e-40f9-a501-6b9a0468359b",
   "metadata": {},
   "source": [
    "In Python, both remove() and discard() are methods used to delete an element from a set, but they behave differently when the element is not found:\n",
    "\n",
    "1. remove():\n",
    "    - Removes the specified element from the set.\n",
    "    - Raises a KeyError if the element is not found in the set."
   ]
  },
  {
   "cell_type": "code",
   "execution_count": 22,
   "id": "3129b104-5379-4798-a0e4-c0b2e827b85e",
   "metadata": {},
   "outputs": [
    {
     "ename": "KeyError",
     "evalue": "4",
     "output_type": "error",
     "traceback": [
      "\u001b[1;31m---------------------------------------------------------------------------\u001b[0m",
      "\u001b[1;31mKeyError\u001b[0m                                  Traceback (most recent call last)",
      "Cell \u001b[1;32mIn[22], line 5\u001b[0m\n\u001b[0;32m      3\u001b[0m my_set \u001b[38;5;241m=\u001b[39m {\u001b[38;5;241m1\u001b[39m, \u001b[38;5;241m2\u001b[39m, \u001b[38;5;241m3\u001b[39m}\n\u001b[0;32m      4\u001b[0m my_set\u001b[38;5;241m.\u001b[39mremove(\u001b[38;5;241m2\u001b[39m)  \u001b[38;5;66;03m# Successfully removes 2\u001b[39;00m\n\u001b[1;32m----> 5\u001b[0m \u001b[43mmy_set\u001b[49m\u001b[38;5;241;43m.\u001b[39;49m\u001b[43mremove\u001b[49m\u001b[43m(\u001b[49m\u001b[38;5;241;43m4\u001b[39;49m\u001b[43m)\u001b[49m  \u001b[38;5;66;03m# Raises KeyError since 4 is not in the set\u001b[39;00m\n",
      "\u001b[1;31mKeyError\u001b[0m: 4"
     ]
    }
   ],
   "source": [
    "# Example:\n",
    "\n",
    "my_set = {1, 2, 3}\n",
    "my_set.remove(2)  # Successfully removes 2\n",
    "my_set.remove(4)  # Raises KeyError since 4 is not in the set"
   ]
  },
  {
   "cell_type": "raw",
   "id": "106e1831-f1a3-413d-be3d-83c67018a69c",
   "metadata": {},
   "source": [
    "2. discard():\n",
    "    - Also removes the specified element from the set.\n",
    "    - Does not raise an error if the element is not found; it just does nothing.\n"
   ]
  },
  {
   "cell_type": "code",
   "execution_count": 24,
   "id": "8e18fd69-e1a6-4409-9210-633d443af252",
   "metadata": {},
   "outputs": [
    {
     "name": "stdout",
     "output_type": "stream",
     "text": [
      "{1, 3}\n"
     ]
    }
   ],
   "source": [
    "# Example:\n",
    "\n",
    "my_set = {1, 2, 3}\n",
    "my_set.discard(2)  # Successfully removes 2\n",
    "my_set.discard(4)  # Does nothing, no error raise\n",
    "print(my_set)"
   ]
  },
  {
   "cell_type": "raw",
   "id": "30314574-eccd-4867-a4e9-f887e0589c76",
   "metadata": {},
   "source": [
    "Summary:\n",
    "    - Use remove() if you want to ensure the element is present and handle errors when it's missing.\n",
    "    - Use discard() if you don't want to raise an error when the element is not found."
   ]
  },
  {
   "cell_type": "markdown",
   "id": "bdd50a79-844d-4cdb-b252-d680fd7d70e3",
   "metadata": {},
   "source": [
    "## 28. Explain the difference between set and frozenset, and give an example of when you would use a frozenset? Write a code to create one frozenset."
   ]
  },
  {
   "cell_type": "markdown",
   "id": "311b952e-43ab-4d21-9b6e-b334787c27de",
   "metadata": {},
   "source": [
    "#### Difference between set and frozenset:\n",
    "\n",
    "#### 1. set:\n",
    "\n",
    "    - A set is mutable, meaning its elements can be added, removed, or changed after creation.\n",
    "    - It does not allow duplicate elements.\n",
    "    - Methods like add(), remove(), and discard() can modify a set.\n",
    "\n",
    "#### 2. frozenset:\n",
    "\n",
    "    - A frozenset is immutable, meaning once created, its elements cannot be changed (no additions or removals).\n",
    "    - It also does not allow duplicate elements, just like a set.\n",
    "    - Being immutable, a frozenset can be used as a key in a dictionary or stored in other sets (which require immutable elements).\n",
    "\n",
    "##### When to use a frozenset:\n",
    "    Use a frozenset when you need an unordered collection of unique elements, but you want to ensure that the collection cannot be modified. For example, you may use a frozenset to represent constant sets of configurations or keys in dictionaries."
   ]
  },
  {
   "cell_type": "code",
   "execution_count": 26,
   "id": "8dcbc007-a7cb-40ce-9114-b57048b03d85",
   "metadata": {},
   "outputs": [
    {
     "name": "stdout",
     "output_type": "stream",
     "text": [
      "frozenset({1, 2, 3, 4, 5})\n"
     ]
    }
   ],
   "source": [
    "# Creating a frozenset\n",
    "my_frozenset = frozenset([1, 2, 3, 4, 5])\n",
    "\n",
    "print(my_frozenset)"
   ]
  },
  {
   "cell_type": "markdown",
   "id": "fb7277fe-d2d9-45a2-834d-a95a4a9f7d3a",
   "metadata": {},
   "source": [
    "## 29. Given a sentence \"apple orange apple banana orange apple\", write code to count the occurrences of each word and store the result in a dictionary.\n",
    "    Expected Output\n",
    "    {'apple': 3, 'orange': 2, 'banana': 1}"
   ]
  },
  {
   "cell_type": "code",
   "execution_count": 40,
   "id": "81750faa-fe50-42d6-b76e-b23bdf5168ac",
   "metadata": {},
   "outputs": [
    {
     "name": "stdout",
     "output_type": "stream",
     "text": [
      "{'apple': 3, 'orange': 2, 'banana': 1}\n"
     ]
    }
   ],
   "source": [
    "str1 = \"apple orange apple banana orange apple\"\n",
    "\n",
    "d = {i : str1.split().count(i) for i in str1.split()}\n",
    "print(d)"
   ]
  },
  {
   "cell_type": "code",
   "execution_count": 46,
   "id": "3730706b-cb1a-47f8-afa2-f518cc388b88",
   "metadata": {},
   "outputs": [
    {
     "name": "stdout",
     "output_type": "stream",
     "text": [
      "{'apple': 3, 'orange': 2, 'banana': 1}\n"
     ]
    }
   ],
   "source": [
    "str1 = \"apple orange apple banana orange apple\"\n",
    "l=str1.split()\n",
    "d={}\n",
    "\n",
    "for i in l:\n",
    "    d[i]=l.count(i)\n",
    "\n",
    "print(d)"
   ]
  },
  {
   "cell_type": "markdown",
   "id": "80f79172-90f8-470e-90f5-c03b5036ca19",
   "metadata": {},
   "source": [
    "## 30. You are given a dictionary d = {'a': 1, 'b': 2, 'c': 3). Write code to invert this dictionary so that keys become values and values become keys."
   ]
  },
  {
   "cell_type": "code",
   "execution_count": 77,
   "id": "0098870e-61d8-46d3-85d3-4efb9065c486",
   "metadata": {},
   "outputs": [
    {
     "name": "stdout",
     "output_type": "stream",
     "text": [
      "Orignal_dictionary =  {'a': 1, 'b': 2, 'c': 3}\n",
      "Inverted_dictionary =  {1: 'a', 2: 'b', 3: 'c'}\n"
     ]
    }
   ],
   "source": [
    "d = {'a': 1, 'b': 2, 'c': 3}\n",
    "\n",
    "c={value : key for key, value in d.items()}\n",
    "print('Orignal_dictionary = ', d)\n",
    "print('Inverted_dictionary = ', c)"
   ]
  },
  {
   "cell_type": "markdown",
   "id": "4f40aa14-4b54-4e28-b470-f644467acc92",
   "metadata": {},
   "source": [
    "## 31. You have a dictionary scores = {'Alice': 90, 'Bob': 85, 'Charlie': 95). Write code to find the name of the student with the highest score.\n",
    "    Expected Output:\n",
    "    Charlie"
   ]
  },
  {
   "cell_type": "code",
   "execution_count": 89,
   "id": "92bebd45-a030-4ee9-a219-ffd7a300fc66",
   "metadata": {},
   "outputs": [
    {
     "name": "stdout",
     "output_type": "stream",
     "text": [
      "Charlie\n"
     ]
    }
   ],
   "source": [
    "scores = {'Alice': 90, 'Bob': 85, 'Charlie': 95}\n",
    "max_score=max(scores.values())\n",
    "\n",
    "for i in scores:\n",
    "    if scores.get(i)==max_score:\n",
    "        print(i)"
   ]
  },
  {
   "cell_type": "code",
   "execution_count": 87,
   "id": "e18148f1-0951-415d-8c18-45ccbbeefbf3",
   "metadata": {},
   "outputs": [
    {
     "name": "stdout",
     "output_type": "stream",
     "text": [
      "Charlie\n"
     ]
    }
   ],
   "source": [
    "scores = {'Alice': 90, 'Bob': 85, 'Charlie': 95}\n",
    "max_score=0\n",
    "\n",
    "for i in scores:\n",
    "    if scores.get(i)>max_score:\n",
    "        max_score=scores.get(i)\n",
    "\n",
    "for i in scores:\n",
    "    if scores.get(i)==max_score:\n",
    "        print(i)"
   ]
  },
  {
   "cell_type": "code",
   "execution_count": null,
   "id": "70d86f19-9058-48e9-9d88-e248acd18d3c",
   "metadata": {},
   "outputs": [],
   "source": []
  }
 ],
 "metadata": {
  "kernelspec": {
   "display_name": "Python 3 (ipykernel)",
   "language": "python",
   "name": "python3"
  },
  "language_info": {
   "codemirror_mode": {
    "name": "ipython",
    "version": 3
   },
   "file_extension": ".py",
   "mimetype": "text/x-python",
   "name": "python",
   "nbconvert_exporter": "python",
   "pygments_lexer": "ipython3",
   "version": "3.11.0"
  }
 },
 "nbformat": 4,
 "nbformat_minor": 5
}
