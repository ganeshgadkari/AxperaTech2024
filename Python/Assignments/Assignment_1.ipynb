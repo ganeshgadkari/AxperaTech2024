{
 "cells": [
  {
   "cell_type": "markdown",
   "id": "e00d165d-efee-4df0-a955-3a3bb7d5f653",
   "metadata": {},
   "source": [
    "<center>Ganesh Gadkari</center>\n",
    "\n",
    "# <center><H1>ASSIGNMENT NO. 1</center></H1>"
   ]
  },
  {
   "cell_type": "markdown",
   "id": "11fd794e-54c2-4e24-ba42-d5e49193846a",
   "metadata": {},
   "source": [
    "## 1. What is the difference between / and // Operator in Python?"
   ]
  },
  {
   "cell_type": "markdown",
   "id": "21ee10b2-dfe2-4096-a977-531919573a21",
   "metadata": {},
   "source": [
    "    In Python, the / and // operators both perform division, but they behave differently:\n",
    "    \n",
    "    i. (Division Operator):\n",
    "        Performs floating-point division, which means it always returns a float (even if both operands are integers).\n",
    "        Example:"
   ]
  },
  {
   "cell_type": "code",
   "execution_count": 1,
   "id": "8136eefc-ad0a-4afc-9989-757554624cda",
   "metadata": {},
   "outputs": [
    {
     "data": {
      "text/plain": [
       "3.5"
      ]
     },
     "execution_count": 1,
     "metadata": {},
     "output_type": "execute_result"
    }
   ],
   "source": [
    "7 / 2"
   ]
  },
  {
   "cell_type": "markdown",
   "id": "96668ea4-34c9-4df8-933f-cebdf3cf188b",
   "metadata": {},
   "source": [
    "### ii. (Floor Division Operator):    \n",
    "        Performs integer division, also known as floor division. \n",
    "        It returns the largest integer less than or equal to the division result (i.e., it \"floors\" the result).\n",
    "        If the result is a floating-point number, it is truncated towards negative infinity.\n",
    "        Example:"
   ]
  },
  {
   "cell_type": "code",
   "execution_count": 2,
   "id": "6e92bf69-0c10-41a8-b0fe-24e281bccad3",
   "metadata": {},
   "outputs": [
    {
     "data": {
      "text/plain": [
       "3"
      ]
     },
     "execution_count": 2,
     "metadata": {},
     "output_type": "execute_result"
    }
   ],
   "source": [
    "7 // 2"
   ]
  },
  {
   "cell_type": "markdown",
   "id": "8b70e810-ff97-4438-9698-5752f37d0784",
   "metadata": {},
   "source": [
    "## 2. How do you calculate the power of a number in Python? (**, pow)"
   ]
  },
  {
   "cell_type": "markdown",
   "id": "49e1000c-a032-4efa-bd79-559e9a4d4c8b",
   "metadata": {},
   "source": [
    "    In Python, you can calculate the power of a number using two methods: the ** operator or the pow() function.\n",
    "    \n",
    "    1. Using the ** operator:\n",
    "        The ** operator raises a number to the power of another number."
   ]
  },
  {
   "cell_type": "code",
   "execution_count": 3,
   "id": "d04bba11-aee4-4ca1-ae39-7039521a492f",
   "metadata": {},
   "outputs": [
    {
     "name": "stdout",
     "output_type": "stream",
     "text": [
      "8\n"
     ]
    }
   ],
   "source": [
    "# Example: 2 raised to the power of 3\n",
    "result = 2 ** 3\n",
    "print(result)  # Output: 8"
   ]
  },
  {
   "cell_type": "markdown",
   "id": "b9251754-0d57-4cc4-8e0f-0eb1089a1bab",
   "metadata": {},
   "source": [
    "    2. Using the pow() function:\n",
    "        The pow() function can be used to raise a number to the power of another number. It has two forms:\n",
    "        \n",
    "        pow(base, exp) to raise base to the power of exp.\n",
    "        pow(base, exp, mod) which returns (base ** exp) % mod."
   ]
  },
  {
   "cell_type": "code",
   "execution_count": 4,
   "id": "33f917e8-14a7-4317-8e21-27c777ee66e9",
   "metadata": {},
   "outputs": [
    {
     "name": "stdout",
     "output_type": "stream",
     "text": [
      "8\n",
      "3\n"
     ]
    }
   ],
   "source": [
    "# Example: 2 raised to the power of 3\n",
    "result = pow(2, 3)\n",
    "print(result)  # Output: 8\n",
    "\n",
    "# Example with modulus\n",
    "result_mod = pow(2, 3, 5)  # Equivalent to (2 ** 3) % 5\n",
    "print(result_mod)  # Output: 3"
   ]
  },
  {
   "cell_type": "markdown",
   "id": "83edbe06-719d-4a07-b548-908702b5dd14",
   "metadata": {},
   "source": [
    "## 3. Take input value from user for a and check whether it is between 10000 and 50000?"
   ]
  },
  {
   "cell_type": "code",
   "execution_count": 5,
   "id": "b29081dd-104f-44d4-b947-3e393047ffdb",
   "metadata": {},
   "outputs": [
    {
     "name": "stdin",
     "output_type": "stream",
     "text": [
      "Enter the number :  2000\n"
     ]
    },
    {
     "name": "stdout",
     "output_type": "stream",
     "text": [
      "The number 2000 is not between 10000 and 50000\n"
     ]
    }
   ],
   "source": [
    "def check_btwn(a):\n",
    "    if a>=10000 and a<=50000:\n",
    "        print(f'The number {a} is between 10000 and 50000')\n",
    "    else:\n",
    "        print('The number {} is not between 10000 and 50000'.format(a))\n",
    "\n",
    "def main():\n",
    "    a=int(input('Enter the number : '))\n",
    "    check_btwn(a)\n",
    "\n",
    "if __name__ == '__main__':\n",
    "    main()"
   ]
  },
  {
   "cell_type": "markdown",
   "id": "e89fcaac-23fb-422b-ab3a-f4c657f55036",
   "metadata": {},
   "source": [
    "## 4. Take input from the user and check whether the value is even or odd using a ternary operator."
   ]
  },
  {
   "cell_type": "code",
   "execution_count": 21,
   "id": "c6ba7ace-bec5-463d-8529-f31d697ab180",
   "metadata": {},
   "outputs": [
    {
     "name": "stdin",
     "output_type": "stream",
     "text": [
      "Enter the number :  7\n"
     ]
    },
    {
     "name": "stdout",
     "output_type": "stream",
     "text": [
      "odd\n"
     ]
    }
   ],
   "source": [
    "b = int(input('Enter the number : '))\n",
    "\n",
    "result = \"even\" if b%2==0 else \"odd\"\n",
    "print(result)"
   ]
  },
  {
   "cell_type": "markdown",
   "id": "5fc7c9fc-6b03-41fc-a31a-ee3d74e11f2c",
   "metadata": {},
   "source": [
    "## 5. Table the input from the user for variable a, b, c and find out the maximum out of three and print the value."
   ]
  },
  {
   "cell_type": "code",
   "execution_count": 11,
   "id": "531c7e89-7754-4b44-8d6e-548f9fce53dc",
   "metadata": {},
   "outputs": [
    {
     "name": "stdin",
     "output_type": "stream",
     "text": [
      "Enter 1st number :  3\n",
      "Enter 2nd number :  1\n",
      "Enter 3rd number :  6\n"
     ]
    },
    {
     "name": "stdout",
     "output_type": "stream",
     "text": [
      "6  is max number\n"
     ]
    }
   ],
   "source": [
    "def max_num(a,b,c):\n",
    "    if a>b and a>c:\n",
    "        print(a, ' is max number')\n",
    "    elif b>a and b>c:\n",
    "        print(b, ' is max number')\n",
    "    else:\n",
    "        print(c, ' is max number')\n",
    "\n",
    "def main():\n",
    "    a = int(input('Enter 1st number : '))\n",
    "    b = int(input('Enter 2nd number : '))\n",
    "    c = int(input('Enter 3rd number : '))\n",
    "    max_num(a,b,c)\n",
    "\n",
    "if __name__ == '__main__':\n",
    "    main()"
   ]
  },
  {
   "cell_type": "code",
   "execution_count": 34,
   "id": "07fd8047-7943-493c-b2ae-aaca7d14969e",
   "metadata": {},
   "outputs": [
    {
     "name": "stdin",
     "output_type": "stream",
     "text": [
      "Enter 1st number :  3\n",
      "Enter 2nd number :  1\n",
      "Enter 3rd number :  9\n"
     ]
    },
    {
     "name": "stdout",
     "output_type": "stream",
     "text": [
      "9\n"
     ]
    }
   ],
   "source": [
    "def max_num(a, b, c):\n",
    "    print(max(a,b,c))\n",
    "\n",
    "def main():\n",
    "    a = int(input('Enter 1st number : '))\n",
    "    b = int(input('Enter 2nd number : '))\n",
    "    c = int(input('Enter 3rd number : '))\n",
    "    max_num(a,b,c)\n",
    "\n",
    "if __name__ == '__main__':\n",
    "    main()"
   ]
  },
  {
   "cell_type": "markdown",
   "id": "272109fc-e469-43c7-8b9b-f970625ddd0a",
   "metadata": {},
   "source": [
    "## 6. Given the expression result=10+20*30/5** 2, what will the value of the result be? Explain the order of operations."
   ]
  },
  {
   "cell_type": "markdown",
   "id": "d5846020-b230-46d9-902c-306f7d1cee14",
   "metadata": {},
   "source": [
    "To evaluate the expression result = 10 + 20 * 30 / 5 ** 2, we need to follow the order of operations known as PEMDAS:\n",
    "\n",
    "P: Parentheses\n",
    "E: Exponents\n",
    "MD: Multiplication and Division (from left to right)\n",
    "AS: Addition and Subtraction (from left to right)\n",
    "Here’s how we break it down:\n",
    "\n",
    "1. Exponentiation (5 ** 2):\n",
    "    5**2=25\n",
    "\n",
    "    Now the expression becomes:\n",
    "    10 + 20 * 30 / 25\n",
    "\n",
    "2. Multiplication (20 * 30):\n",
    "\n",
    "    20×30=600\n",
    "\n",
    "    The expression becomes:\n",
    "    10 + 600 / 25\n",
    "\n",
    "3. Division (600 / 25):\n",
    "    600÷25=24\n",
    "\n",
    "    Now the expression becomes:\n",
    "    10 + 24\n",
    "\n",
    "4. Addition (10 + 24):\n",
    "    10+24=34\n",
    "\n",
    "    Thus, the value of result is 34."
   ]
  },
  {
   "cell_type": "code",
   "execution_count": 12,
   "id": "48414826-e029-4059-a9ab-dd7a75e5e17a",
   "metadata": {},
   "outputs": [
    {
     "name": "stdout",
     "output_type": "stream",
     "text": [
      "34.0\n"
     ]
    }
   ],
   "source": [
    "result = 10 + 20 * 30 / 5 ** 2\n",
    "print(result)"
   ]
  },
  {
   "cell_type": "markdown",
   "id": "30abd303-086f-4c16-b704-cf3646d21f9d",
   "metadata": {},
   "source": [
    "## 7. Given the expression a<b == c <d, what is happening here? Explain with an example.\n",
    "    a, b, c, d = 1, 2, 2, 3\n",
    "    print(a<b == c <d) #Test this code"
   ]
  },
  {
   "cell_type": "markdown",
   "id": "91a8c324-2897-4f7b-8cf1-6355f74e75fe",
   "metadata": {},
   "source": [
    "In the expression a < b == c < d, what is happening is chained comparison. Python allows multiple comparisons to be chained together. <br>\n",
    "This means that the expression a < b == c < d is evaluated as:\n",
    "\n",
    "(a < b) and (b == c) and (c < d)\n",
    "Let’s break it down step by step using the values provided:\n",
    "\n",
    "a, b, c, d = 1, 2, 2, 3\n",
    "Now the expression is:\n",
    "1 < 2 == 2 < 3\n",
    "\n",
    "This is equivalent to:\n",
    "\n",
    "(1 < 2) and (2 == 2) and (2 < 3)\n",
    "\n",
    "1 < 2: This is True.\n",
    "2 == 2: This is also True.\n",
    "2 < 3: This is True.\n",
    "Since all comparisons are True, the entire expression evaluates to True."
   ]
  },
  {
   "cell_type": "code",
   "execution_count": 17,
   "id": "6aae33e3-46f7-431d-b38d-44965f3b32d0",
   "metadata": {},
   "outputs": [
    {
     "name": "stdout",
     "output_type": "stream",
     "text": [
      "True\n"
     ]
    }
   ],
   "source": [
    "a,b,c,d=1,2,2,4\n",
    "print(a<b == c <d)"
   ]
  },
  {
   "cell_type": "markdown",
   "id": "3ef0bba5-fbd9-4d17-94a8-7db6fde92523",
   "metadata": {},
   "source": [
    "## 8. What is the output of below code?\n",
    "    a=b=c=[]\n",
    "    a.append(1)\n",
    "    print(b) # Output?"
   ]
  },
  {
   "cell_type": "code",
   "execution_count": 27,
   "id": "772dba08-e5aa-43ac-b46f-965ea9ca6eff",
   "metadata": {},
   "outputs": [
    {
     "name": "stdout",
     "output_type": "stream",
     "text": [
      "[1]\n"
     ]
    }
   ],
   "source": [
    "a=b=c=[]\n",
    "a.append(1)\n",
    "print(c)"
   ]
  },
  {
   "cell_type": "markdown",
   "id": "61e7d7ea-5625-481b-9640-6f9903062d39",
   "metadata": {},
   "source": [
    "## 9. What is the output of below code?\n",
    "    a = \"hello\"\n",
    "    b = \"hello\"\n",
    "    c = []\n",
    "    d = []\n",
    "    print(a is b) # Output?\n",
    "    print(c is d) # Output?\n",
    "    Why do a is b and c is d give different results?"
   ]
  },
  {
   "cell_type": "code",
   "execution_count": 31,
   "id": "49dced4a-f02d-42db-86a4-4e6e43d3baea",
   "metadata": {},
   "outputs": [
    {
     "name": "stdout",
     "output_type": "stream",
     "text": [
      "True\n",
      "False\n"
     ]
    }
   ],
   "source": [
    "a = \"hello\"\n",
    "b = \"hello\"\n",
    "c = []\n",
    "d = []\n",
    "print(a is b) # Output?\n",
    "print(c is d) # Output?"
   ]
  },
  {
   "cell_type": "markdown",
   "id": "af8622b7-7177-4104-9ed6-5393e561d745",
   "metadata": {},
   "source": [
    "- (a is b):\n",
    "\n",
    "The is operator checks object identity, meaning it checks whether two variables point to the same object in memory.\n",
    "In Python, strings are interned (cached) when they are immutable and relatively small. This means that Python will reuse the same string object for identical string literals.\n",
    "Since both a and b point to the string \"hello\", which is interned, a is b will return True because a and b refer to the same string object in memory.<br>\n",
    "\n",
    "- (c is d):\n",
    "\n",
    "Here, c and d are both empty lists ([]). Lists in Python are mutable, and each time a new list is created, even if the contents are the same, they are stored in different memory locations.\n",
    "Therefore, c and d are two distinct list objects, and c is d will return False because c and d do not refer to the same object in memory."
   ]
  },
  {
   "cell_type": "markdown",
   "id": "087c4e70-8df2-4252-84dd-6463881c1210",
   "metadata": {},
   "source": [
    "## 10. Given the expression result = (False and True) or (True and False) or (True or False), what will the result be? Explain how Python evaluates this."
   ]
  },
  {
   "cell_type": "code",
   "execution_count": 33,
   "id": "8f7307a9-a576-4a1f-a0e9-81a9e894069c",
   "metadata": {},
   "outputs": [
    {
     "name": "stdout",
     "output_type": "stream",
     "text": [
      "True\n"
     ]
    }
   ],
   "source": [
    "result = (False and True) or (True and False) or (True or False)\n",
    "print(result)"
   ]
  },
  {
   "cell_type": "markdown",
   "id": "50dfd230-fb26-4319-8e05-34fabc8195e7",
   "metadata": {},
   "source": [
    "We need to understand how logical operators (and, or) work in Python.\n",
    "\n",
    "- Operator Precedence:\n",
    "    and has higher precedence than or, so and operations will be evaluated first.\n",
    "    The or operations will be evaluated from left to right, but only if necessary.\n",
    "    Let’s break it down step by step.\n",
    "\n",
    "- Step 1: Evaluate (False and True)\n",
    "    The and operator returns True only if both operands are True.\n",
    "    Since the first operand is False, the result is False.\n",
    "    So, (False and True) becomes False.\n",
    "\n",
    "- Step 2: Evaluate (True and False)\n",
    "    Again, the and operator returns True only if both operands are True.\n",
    "    Since one operand is False, the result is False.\n",
    "    So, (True and False) becomes False.\n",
    "\n",
    "- Step 3: Evaluate (True or False)\n",
    "    The or operator returns True if at least one of the operands is True.\n",
    "    Since the first operand is True, the result is True.\n",
    "    So, (True or False) becomes True.\n",
    "\n",
    "- Step 4: Evaluate the full expression:\n",
    "    Now the expression simplifies to:\n",
    "    \n",
    "    False or False or True\n",
    "    The or operator is evaluated from left to right.\n",
    "    False or False is False.\n",
    "    False or True is True.\n",
    "\n",
    "- Final result:\n",
    "    The value of result is True."
   ]
  },
  {
   "cell_type": "markdown",
   "id": "caa0a131-b699-496d-8ef8-35b95641a3d6",
   "metadata": {},
   "source": [
    "## 11. Write a Python expression using the ternary operator to find the maximum of three variables, a, b, and c, without using the max() function."
   ]
  },
  {
   "cell_type": "code",
   "execution_count": 38,
   "id": "73e85b6b-f0d5-49d3-954d-027d5a5ebba3",
   "metadata": {},
   "outputs": [
    {
     "name": "stdin",
     "output_type": "stream",
     "text": [
      "Enter 1st number :  5\n",
      "Enter 2nd number :  1\n",
      "Enter 3rd number :  9\n"
     ]
    },
    {
     "name": "stdout",
     "output_type": "stream",
     "text": [
      "9 is max number\n"
     ]
    }
   ],
   "source": [
    "def max_num(a, b, c):\n",
    "    return a if (a>b and a>c) else (b if (b>c) else c)\n",
    "\n",
    "def main():\n",
    "    a = int(input('Enter 1st number : '))\n",
    "    b = int(input('Enter 2nd number : '))\n",
    "    c = int(input('Enter 3rd number : '))\n",
    "    print('{} is max number'.format(max_num(a,b,c)))\n",
    "\n",
    "if __name__ == '__main__':\n",
    "    main()"
   ]
  },
  {
   "cell_type": "markdown",
   "id": "e0aaaa4e-979a-458c-9358-4576050da73c",
   "metadata": {},
   "source": [
    "## 12. How do you convert a string to a list and a list to a string in Python?\n",
    "    ['h', 'e', 'l', 'l', 'o']\n",
    "    Hello"
   ]
  },
  {
   "cell_type": "code",
   "execution_count": 3,
   "id": "d3946926-6248-4698-846f-e2b411ba0c3a",
   "metadata": {},
   "outputs": [
    {
     "name": "stdout",
     "output_type": "stream",
     "text": [
      "hello\n",
      "<class 'str'>\n"
     ]
    }
   ],
   "source": [
    "# List to string conversion\n",
    "\n",
    "def main():\n",
    "    l = ['h', 'e', 'l', 'l', 'o']\n",
    "    s = ''\n",
    "    for i in l:\n",
    "        s=s+i\n",
    "    print(s)\n",
    "    print(type(s))\n",
    "\n",
    "\n",
    "if __name__ == '__main__':\n",
    "    main()"
   ]
  },
  {
   "cell_type": "code",
   "execution_count": 4,
   "id": "f94eea16-b07d-4425-a940-ebf2edc1f155",
   "metadata": {},
   "outputs": [
    {
     "name": "stdout",
     "output_type": "stream",
     "text": [
      "['h', 'e', 'l', 'l', 'o']\n",
      "<class 'list'>\n"
     ]
    }
   ],
   "source": [
    "# String to List conversion\n",
    "\n",
    "def main():\n",
    "    s = 'hello'\n",
    "    l = []\n",
    "    for i in s:\n",
    "        l.append(i)\n",
    "    print(l)\n",
    "    print(type(l))\n",
    "\n",
    "\n",
    "if __name__ == '__main__':\n",
    "    main()"
   ]
  },
  {
   "cell_type": "code",
   "execution_count": 11,
   "id": "e546a21a-1d74-4c0f-8ef8-2c3701c429d2",
   "metadata": {},
   "outputs": [
    {
     "name": "stdout",
     "output_type": "stream",
     "text": [
      "['h', 'e', 'l', 'l', 'o']\n",
      "<class 'list'>\n"
     ]
    }
   ],
   "source": [
    "# String to List conversion\n",
    "s = 'hello'\n",
    "l = list(s)\n",
    "print(l)\n",
    "print(type(l))"
   ]
  },
  {
   "cell_type": "code",
   "execution_count": 20,
   "id": "018f9bad-7727-4c45-88e1-c4a17332a110",
   "metadata": {},
   "outputs": [
    {
     "name": "stdout",
     "output_type": "stream",
     "text": [
      "hello\n",
      "<class 'str'>\n"
     ]
    }
   ],
   "source": [
    "# List to string conversion\n",
    "\n",
    "l = ['h', 'e', 'l', 'l', 'o']\n",
    "s = ''.join(l)\n",
    "print(s)\n",
    "print(type(s))"
   ]
  },
  {
   "cell_type": "markdown",
   "id": "e3301322-6137-416b-ac0a-273b4b63597a",
   "metadata": {},
   "source": [
    "## 13. What is the difference between '==' and 'is' operators when comparing two objects in Python?"
   ]
  },
  {
   "cell_type": "markdown",
   "id": "2439eaf6-dfda-4be5-a396-f013442d092b",
   "metadata": {},
   "source": [
    "- '==' checks if the values of two objects are the same.\n",
    "- 'is' checks if two variables refer to the same object in memory."
   ]
  },
  {
   "cell_type": "code",
   "execution_count": 23,
   "id": "aee55d3c-11e7-453e-973e-26f2abe42d23",
   "metadata": {},
   "outputs": [
    {
     "name": "stdout",
     "output_type": "stream",
     "text": [
      "True\n",
      "False\n"
     ]
    }
   ],
   "source": [
    "a = [1, 2, 3]\n",
    "b = [1, 2, 3]\n",
    "\n",
    "print(a == b)  # True (They have the same values)\n",
    "print(a is b)  # False (They are different objects in memory)"
   ]
  },
  {
   "cell_type": "code",
   "execution_count": 24,
   "id": "9ad772e5-0415-4dd5-9904-564c24a0648e",
   "metadata": {},
   "outputs": [
    {
     "name": "stdout",
     "output_type": "stream",
     "text": [
      "True\n",
      "True\n"
     ]
    }
   ],
   "source": [
    "x = 5\n",
    "y = 5\n",
    "\n",
    "print(x == y)  # True (They have the same value)\n",
    "print(x is y)  # True (Small integers are cached, so they point to the same object in memory)"
   ]
  },
  {
   "cell_type": "markdown",
   "id": "7b3d7a61-20b8-4db8-9d0a-13baeda45a07",
   "metadata": {},
   "source": [
    "## 14. You have a list containing different data types. Write a Python function that processes this list and outputs:\n",
    "    L=[12, 'Python', 90.56,78,34, 'Is',65.90, 'Easy']\n",
    "    1. The sum of all integers and floats.\n",
    "    2. The concatenation of all strings.\n",
    "    3. The total number of elements in all sequences (lists, tuples, dictionaries)."
   ]
  },
  {
   "cell_type": "code",
   "execution_count": 17,
   "id": "3311b3b6-6c63-4242-a44f-7796da1cea49",
   "metadata": {},
   "outputs": [
    {
     "name": "stdout",
     "output_type": "stream",
     "text": [
      "[280.46, 'Python Is Easy']\n"
     ]
    }
   ],
   "source": [
    "l=[12, 'Python', 90.56, 78, 34, 'Is',65.90, 'Easy']\n",
    "\n",
    "new_l = []\n",
    "num = 0\n",
    "ch = ''\n",
    "\n",
    "for i in l:\n",
    "    if type(i)==int or type(i)==float:\n",
    "        num=num+i\n",
    "    if type(i)==str:\n",
    "        ch=ch+' '+i\n",
    "new_l.append(round(num,2))\n",
    "new_l.append(ch.strip())\n",
    "print(new_l)"
   ]
  },
  {
   "cell_type": "markdown",
   "id": "ebb4b25d-fb99-4a0c-973d-2e3ae90e403f",
   "metadata": {},
   "source": [
    "## 15. You are given a list of numbers. Write a Python function using a for loop to find the first even number greater than 50. If no such number exists, return None.\n",
    "    1. nums [10, 47, 53, 60, 33]\n",
    "    2. Output=60"
   ]
  },
  {
   "cell_type": "code",
   "execution_count": 30,
   "id": "88cb5b35-045e-4308-acdc-5f751c59a620",
   "metadata": {},
   "outputs": [
    {
     "name": "stdout",
     "output_type": "stream",
     "text": [
      "60\n"
     ]
    }
   ],
   "source": [
    "def first_even_no():\n",
    "    nums=[10, 47, 53, 60, 33]\n",
    "    for i in nums:\n",
    "        if i>50 and i%2==0:\n",
    "            return i\n",
    "    return None\n",
    "        \n",
    "if __name__ == '__main__':\n",
    "    print(first_even_no())"
   ]
  },
  {
   "cell_type": "markdown",
   "id": "7c609866-b35e-4202-b071-87944389bfa3",
   "metadata": {},
   "source": [
    "## 16. Write a Python code to calculate the factorial of a number using a while loop."
   ]
  },
  {
   "cell_type": "code",
   "execution_count": 7,
   "id": "6ab3b28e-5ec1-44ce-9da8-8db4b2df0653",
   "metadata": {},
   "outputs": [
    {
     "name": "stdin",
     "output_type": "stream",
     "text": [
      "Enter No :  4\n"
     ]
    },
    {
     "name": "stdout",
     "output_type": "stream",
     "text": [
      "24\n"
     ]
    }
   ],
   "source": [
    "def factorial():\n",
    "    a=int(input('Enter No : '))\n",
    "    i=1\n",
    "    b=1\n",
    "    \n",
    "    while i<=a:\n",
    "        b=b*i\n",
    "        i=i+1\n",
    "    print(b)\n",
    "\n",
    "if __name__=='__main__':\n",
    "    factorial()"
   ]
  },
  {
   "cell_type": "markdown",
   "id": "d5c5a01f-63fc-42a2-99cb-7e31b926e211",
   "metadata": {},
   "source": [
    "## 17. Write a Python code using a while loop to sum all even numbers starting from 2 until the sum till it reaches 1000."
   ]
  },
  {
   "cell_type": "code",
   "execution_count": 22,
   "id": "81328bdf-58ba-4a1a-a935-168d8c24dd20",
   "metadata": {},
   "outputs": [
    {
     "name": "stdout",
     "output_type": "stream",
     "text": [
      "1056\n"
     ]
    }
   ],
   "source": [
    "def main():\n",
    "    i=2    # First even no\n",
    "    sum = 0\n",
    "    while sum<1000:\n",
    "        sum+=i\n",
    "        i+=2    #Get next even no\n",
    "    print(sum)\n",
    "\n",
    "if __name__=='__main__':\n",
    "    main()"
   ]
  },
  {
   "cell_type": "markdown",
   "id": "774eac56-dbf0-492d-95e6-beccc293fae7",
   "metadata": {},
   "source": [
    "## 18. Write a Python code that iterates over a list of integers and prints only the odd numbers. Use the continue statement to skip the even numbers."
   ]
  },
  {
   "cell_type": "code",
   "execution_count": 39,
   "id": "78c693c7-f64f-4573-b0a8-c6af0e857d6f",
   "metadata": {},
   "outputs": [
    {
     "name": "stdout",
     "output_type": "stream",
     "text": [
      "23  is an odd no.\n",
      "33  is an odd no.\n",
      "41  is an odd no.\n",
      "19  is an odd no.\n",
      "29  is an odd no.\n"
     ]
    }
   ],
   "source": [
    "def odd(a):\n",
    "    for i in a:\n",
    "        if i%2!=0:\n",
    "            print(i, ' is an odd no.')\n",
    "        else:\n",
    "            continue\n",
    "\n",
    "def main():\n",
    "    import random\n",
    "    a = []\n",
    "    while len(a)<10:\n",
    "        a.append(random.randint(1,50))    # Taking random numbers as input.\n",
    "    odd(a)\n",
    "\n",
    "\n",
    "if __name__=='__main__':\n",
    "    main()"
   ]
  },
  {
   "cell_type": "markdown",
   "id": "c89c8136-b1bc-42a3-af61-e9ba28a83b29",
   "metadata": {},
   "source": [
    "## 19. Write a Python code that processes a list of strings and ignores any empty strings or strings with only whitespace using the continue statement. \n",
    "    l=[\"hello\", \" \", \"\", \"world\", \"  \", \"python\"]\n",
    "    Output=\n",
    "        Hello\n",
    "        World\n",
    "        python"
   ]
  },
  {
   "cell_type": "code",
   "execution_count": 49,
   "id": "c00121b4-be3d-4f5f-948b-8a6374842cd8",
   "metadata": {},
   "outputs": [
    {
     "name": "stdout",
     "output_type": "stream",
     "text": [
      "hello\n",
      "world\n",
      "python\n"
     ]
    }
   ],
   "source": [
    "l=[\"hello\", \" \", \"\", \"world\", \"  \", \"python\"]\n",
    "\n",
    "for i in l:\n",
    "    if bool(i)==True and i.isspace()==False:\n",
    "        print(i)"
   ]
  },
  {
   "cell_type": "markdown",
   "id": "c436bb8c-bc8b-4bce-a5c6-6a52ada4c323",
   "metadata": {},
   "source": [
    "## 20. Write a Python program that keeps asking the user for a positive integer. If the user enters a negative number or zero, it should continue asking until a valid number is provided."
   ]
  },
  {
   "cell_type": "code",
   "execution_count": 57,
   "id": "e157df3a-f05f-424b-ad2d-ed983f378c17",
   "metadata": {},
   "outputs": [
    {
     "name": "stdin",
     "output_type": "stream",
     "text": [
      "Enter Positive integer :  0\n",
      "Enter Positive integer :  0\n",
      "Enter Positive integer :  0\n",
      "Enter Positive integer :  -8\n",
      "Enter Positive integer :  -36\n",
      "Enter Positive integer :  -1\n",
      "Enter Positive integer :  25\n"
     ]
    }
   ],
   "source": [
    "def main():\n",
    "    a = int(input(\"Enter Positive integer : \"))\n",
    "    while a<=0:\n",
    "        a = int(input(\"Enter Positive integer : \"))\n",
    "        \n",
    "if __name__=='__main__':\n",
    "    main()"
   ]
  },
  {
   "cell_type": "markdown",
   "id": "28406515-9037-4eaf-a551-6a12bf963c1d",
   "metadata": {},
   "source": [
    "## 21. Write a program to check whether the entered number is prime or not?"
   ]
  },
  {
   "cell_type": "code",
   "execution_count": 19,
   "id": "895f0a74-1c7f-445c-867f-1f748d1d96f5",
   "metadata": {},
   "outputs": [
    {
     "name": "stdin",
     "output_type": "stream",
     "text": [
      "Enter the Number :  13\n"
     ]
    },
    {
     "name": "stdout",
     "output_type": "stream",
     "text": [
      "13  is a prime number\n"
     ]
    }
   ],
   "source": [
    "import math\n",
    "\n",
    "def is_prime(a):\n",
    "    if a<=1:\n",
    "        print(a, ' is not a prime number')\n",
    "        return\n",
    "        \n",
    "    for i in range(2, int(math.sqrt(a))+1):\n",
    "        if a%i==0:\n",
    "            print(a, ' is not a prime number')\n",
    "            return\n",
    "        \n",
    "    print(a, ' is a prime number')\n",
    "    \n",
    "def main():\n",
    "    a = int(input('Enter the Number : '))\n",
    "    is_prime(a)\n",
    "\n",
    "if __name__=='__main__':\n",
    "    main()"
   ]
  },
  {
   "cell_type": "markdown",
   "id": "62f96231-2cb4-4886-aa71-4818cd01a65a",
   "metadata": {},
   "source": [
    "## 22. Write a python code using a for loop and break to find the first non-repeating character in a string.\n",
    "    1. Input-people\n",
    "    2. Output-o"
   ]
  },
  {
   "cell_type": "code",
   "execution_count": 29,
   "id": "86909bdb-29a4-4c97-8dae-8b075cfaf3e4",
   "metadata": {},
   "outputs": [
    {
     "name": "stdout",
     "output_type": "stream",
     "text": [
      "o\n"
     ]
    }
   ],
   "source": [
    "a = 'people'\n",
    "\n",
    "for i in a:\n",
    "    if a.count(i)==1:\n",
    "        print(i)\n",
    "        break"
   ]
  },
  {
   "cell_type": "markdown",
   "id": "64512791-61f1-4494-97e1-60832e4fb5d1",
   "metadata": {},
   "source": [
    "## 23. Write a Python code to validate a password based on specific criteria: it must be at least 8 characters long, contain at least one uppercase letter, one lowercase letter, and one digit. Use a for loop and if-elif conditions to implement the validation."
   ]
  },
  {
   "cell_type": "code",
   "execution_count": 18,
   "id": "0be61c46-7e12-4c2f-b3b6-3151f7aa9c94",
   "metadata": {},
   "outputs": [
    {
     "name": "stdout",
     "output_type": "stream",
     "text": [
      "Passward must contain :\n",
      "* At least 8 characters long,\n",
      "* contain at least one uppercase letter,\n",
      "* one lowercase letter,\n",
      "* one digit\n",
      "\n"
     ]
    },
    {
     "name": "stdin",
     "output_type": "stream",
     "text": [
      "Enter Passward :  ········\n"
     ]
    },
    {
     "name": "stdout",
     "output_type": "stream",
     "text": [
      "Passward must contain at least 8 characters\n"
     ]
    },
    {
     "name": "stdin",
     "output_type": "stream",
     "text": [
      "Enter Passward :  ········\n"
     ]
    },
    {
     "name": "stdout",
     "output_type": "stream",
     "text": [
      "Passward must contain at least one uppercase letter\n"
     ]
    },
    {
     "name": "stdin",
     "output_type": "stream",
     "text": [
      "Enter Passward :  ········\n"
     ]
    },
    {
     "name": "stdout",
     "output_type": "stream",
     "text": [
      "Passward must contain at least one lowercase letter\n"
     ]
    },
    {
     "name": "stdin",
     "output_type": "stream",
     "text": [
      "Enter Passward :  ········\n"
     ]
    },
    {
     "name": "stdout",
     "output_type": "stream",
     "text": [
      "Passward must contain at least one digit\n"
     ]
    },
    {
     "name": "stdin",
     "output_type": "stream",
     "text": [
      "Enter Passward :  ········\n"
     ]
    },
    {
     "name": "stdout",
     "output_type": "stream",
     "text": [
      "Sucess\n"
     ]
    }
   ],
   "source": [
    "def pass_input():\n",
    "    import getpass\n",
    "    p = getpass.getpass('Enter Passward : ')\n",
    "    check_pass(p)\n",
    "\n",
    "def check_pass(p):\n",
    "    if len(p)<8:\n",
    "        print('Passward must contain at least 8 characters')\n",
    "        pass_input()\n",
    "        return\n",
    "\n",
    "    if not any(i.isupper() for i in p):\n",
    "        print('Passward must contain at least one uppercase letter')\n",
    "        pass_input()\n",
    "        return\n",
    "        \n",
    "    if not any(i.islower() for i in p):\n",
    "        print('Passward must contain at least one lowercase letter')\n",
    "        pass_input()\n",
    "        return\n",
    "\n",
    "    if not any(i.isdigit() for i in p):\n",
    "        print('Passward must contain at least one digit')\n",
    "        pass_input()\n",
    "        return\n",
    "\n",
    "    print('Sucess')\n",
    "        \n",
    "if __name__=='__main__':\n",
    "    print('Passward must contain :\\n* At least 8 characters long,\\n* contain at least one uppercase letter,\\n* one lowercase letter,\\n* one digit\\n')\n",
    "    pass_input()"
   ]
  },
  {
   "cell_type": "markdown",
   "id": "f9a8bc0b-c4eb-49ce-8889-319e3734c223",
   "metadata": {},
   "source": [
    "## 24. Write a python code that takes a list and skips every 3rd element using the continue statement in a for loop. (List Comprehension)\n",
    "    Input lst=[10, 20, 30, 40, 50,60, 70, 80, 90]\n",
    "    Output: 10 20 40 50 70 80"
   ]
  },
  {
   "cell_type": "code",
   "execution_count": 23,
   "id": "5114d161-b09d-4755-8d44-581eda03a01c",
   "metadata": {},
   "outputs": [
    {
     "name": "stdout",
     "output_type": "stream",
     "text": [
      "10 20 40 50 70 80 "
     ]
    }
   ],
   "source": [
    "l=[10, 20, 30, 40, 50,60, 70, 80, 90]\n",
    "for i in l:\n",
    "    if i%3==0:\n",
    "        continue\n",
    "    else:\n",
    "        print(i,end=' ')"
   ]
  },
  {
   "cell_type": "markdown",
   "id": "e6735f0e-a0a3-4f4d-8444-72fee771eaaa",
   "metadata": {},
   "source": [
    "## 25. Write a python code using a while loop that keeps asking the user for numbers and adds them to a list. The loop should stop if the user enters a negative number. Print the list values."
   ]
  },
  {
   "cell_type": "code",
   "execution_count": 27,
   "id": "88e90199-bea3-4a26-a9b3-4a11567bd82a",
   "metadata": {},
   "outputs": [
    {
     "name": "stdin",
     "output_type": "stream",
     "text": [
      "Enter the number :  12\n",
      "Enter the number :  5\n",
      "Enter the number :  5\n",
      "Enter the number :  14\n",
      "Enter the number :  95\n",
      "Enter the number :  0\n",
      "Enter the number :  -8\n"
     ]
    },
    {
     "name": "stdout",
     "output_type": "stream",
     "text": [
      "[12, 5, 5, 14, 95, 0, -8]\n"
     ]
    }
   ],
   "source": [
    "def main():\n",
    "    a=0\n",
    "    l = []\n",
    "    while a>=0:\n",
    "        a = eval(input('Enter the number : '))\n",
    "        l.append(a)\n",
    "    print(l)\n",
    "\n",
    "if __name__=='__main__':\n",
    "    main()"
   ]
  },
  {
   "cell_type": "markdown",
   "id": "35e8dea4-479d-477d-9d65-cabdfe9a3fec",
   "metadata": {},
   "source": [
    "## 26. Write a python program to search for a specific word in a list of strings. Use a for loop with break to exit early once the word is found.\n",
    "    1. Fruit_list=[\"apple\", \"banana\", \"cherry\", \"date\", \"fig\"]\n",
    "    2. input word=\"cherry\"\n",
    "    3. #Output: Found 'cherry' in the Fruit Bucket!\n",
    "    4. Input word \"grapes\"\n",
    "    5. #Output: 'grapes' not found in the fuirt bucket try another fruit."
   ]
  },
  {
   "cell_type": "code",
   "execution_count": 41,
   "id": "9d7d3f72-3dda-4f98-8ad9-8329dcf74f7d",
   "metadata": {},
   "outputs": [
    {
     "name": "stdin",
     "output_type": "stream",
     "text": [
      "Input word :  cherry\n"
     ]
    },
    {
     "name": "stdout",
     "output_type": "stream",
     "text": [
      "Found 'cherry' in the Fruit Bucket!\n"
     ]
    }
   ],
   "source": [
    "def find_fruit(Fruit_list,a):\n",
    "    flag=False\n",
    "    for i in Fruit_list:\n",
    "        if a==i:\n",
    "            flag=True\n",
    "            print(f\"Found '{a}' in the Fruit Bucket!\")\n",
    "            break\n",
    "            \n",
    "        else:\n",
    "            continue\n",
    "    if flag==False:\n",
    "        print(f\"'{a}' not found in the fuirt bucket try another fruit.\")\n",
    "        return\n",
    "\n",
    "def main():\n",
    "    Fruit_list=[\"apple\", \"banana\", \"cherry\", \"date\", \"fig\"]\n",
    "    a = input('Input word : ')\n",
    "    find_fruit(Fruit_list,a)\n",
    "\n",
    "if __name__=='__main__':\n",
    "    main()"
   ]
  },
  {
   "cell_type": "markdown",
   "id": "6766a0f8-0170-49b8-bbf7-103415ff7a59",
   "metadata": {},
   "source": [
    "## 27. Take a string input from the user and print the string in reverse order using the following methods:\n",
    "    1. Using a for loop.\n",
    "    2. Using a while loop.\n",
    "    3. Using string slicing.\n",
    "    4. Use reverse method\n",
    "    Input: hello\n",
    "    Output: olleh"
   ]
  },
  {
   "cell_type": "code",
   "execution_count": 61,
   "id": "0f1986df-45c9-441b-90ed-b88a7d4eff2a",
   "metadata": {},
   "outputs": [
    {
     "name": "stdin",
     "output_type": "stream",
     "text": [
      "Input word :  hello\n"
     ]
    },
    {
     "name": "stdout",
     "output_type": "stream",
     "text": [
      "Using For loop :  olleh\n",
      "Using while loop :  olleh\n",
      "Using string slicing :  olleh\n",
      "Using reverse method :  olleh\n"
     ]
    }
   ],
   "source": [
    "def reverse_str4(a):\n",
    "    print('Using reverse method : ', ''.join(reversed(a)))\n",
    "\n",
    "def reverse_str3(a):\n",
    "    print('Using string slicing : ',a[::-1])\n",
    "\n",
    "def reverse_str2(a):\n",
    "    i=0\n",
    "    b=''\n",
    "    while i<len(a):\n",
    "        b=a[i]+b\n",
    "        i+=1\n",
    "    print('Using while loop : ',b)\n",
    "\n",
    "def reverse_str1(a):\n",
    "    b=''\n",
    "    for i in a:\n",
    "        b=i+b\n",
    "    print('Using For loop : ',b)\n",
    "\n",
    "def main():\n",
    "    a = input('Input word : ')\n",
    "    reverse_str1(a)\n",
    "    reverse_str2(a)\n",
    "    reverse_str3(a)\n",
    "    reverse_str4(a)\n",
    "\n",
    "if __name__=='__main__':\n",
    "    main()"
   ]
  },
  {
   "cell_type": "markdown",
   "id": "f6a5fd74-f332-47ce-841a-97714b5d0902",
   "metadata": {},
   "source": [
    "## 28. Reverse the items in a list.\n",
    "    Input: ['Hello', 'Hi']\n",
    "    Output: ['Hi', 'Hello']"
   ]
  },
  {
   "cell_type": "code",
   "execution_count": 65,
   "id": "71e5242e-13b6-4bc7-bd95-5c20f04b07b6",
   "metadata": {},
   "outputs": [
    {
     "name": "stdout",
     "output_type": "stream",
     "text": [
      "['Hello', 'Hi']\n",
      "['Hi', 'Hello']\n"
     ]
    }
   ],
   "source": [
    "l = ['Hello', 'Hi']\n",
    "print(l)\n",
    "print(l[::-1])"
   ]
  },
  {
   "cell_type": "markdown",
   "id": "ea81fbec-c726-4b42-9764-fffef27d89c5",
   "metadata": {},
   "source": [
    "## 29. Count the number of occurrences of a substring within a given string. Take both the main string and the substring as input from the keyboard. Implement this using two different methods:\n",
    "    1. Using the count() method.\n",
    "    2. Using loop"
   ]
  },
  {
   "cell_type": "code",
   "execution_count": 73,
   "id": "f30942c6-e207-4f2d-9f24-4f49850ddea5",
   "metadata": {},
   "outputs": [
    {
     "name": "stdin",
     "output_type": "stream",
     "text": [
      "Enter the main string :  hello\n",
      "Enter the substring :  l\n"
     ]
    },
    {
     "name": "stdout",
     "output_type": "stream",
     "text": [
      "Using count() method :  2\n",
      "Using for loop :  2\n"
     ]
    }
   ],
   "source": [
    "def flp__(a,b):\n",
    "    cnt=0\n",
    "    for i in a:\n",
    "        if i==b:\n",
    "            cnt+=1\n",
    "    print('Using for loop : ',cnt)\n",
    "\n",
    "def cnt__(a,b):\n",
    "    print('Using count() method : ',a.count(b))\n",
    "\n",
    "def main():\n",
    "    a = input('Enter the main string : ')\n",
    "    b = input('Enter the substring : ')\n",
    "    \n",
    "    cnt__(a,b)\n",
    "    flp__(a,b)\n",
    "\n",
    "if __name__=='__main__':\n",
    "    main()"
   ]
  },
  {
   "cell_type": "markdown",
   "id": "6b1d7d15-0f8f-47a6-91e3-358de7502456",
   "metadata": {},
   "source": [
    "## 30. Count the length of a string without including spaces in the count. Take the string as input from the keyboard and implement the solution using two methods:\n",
    "    1. Using the len() and replace() methods.\n",
    "    2. Using a loop."
   ]
  },
  {
   "cell_type": "code",
   "execution_count": 82,
   "id": "a4f9b5eb-e1bc-4e55-9f32-1e36c708a531",
   "metadata": {},
   "outputs": [
    {
     "name": "stdin",
     "output_type": "stream",
     "text": [
      "Enter the string :  Ganesh Vishnu Gadkari\n"
     ]
    },
    {
     "name": "stdout",
     "output_type": "stream",
     "text": [
      "Using len() & replace() methods :  19\n",
      "Using for loop :  19\n"
     ]
    }
   ],
   "source": [
    "def spc_cnt_2(a):\n",
    "    b=0\n",
    "    for i in a:\n",
    "        if i==' ':\n",
    "            continue\n",
    "        else:\n",
    "            b+=1\n",
    "    print('Using for loop : ', b)\n",
    "\n",
    "def spc_cnt_1(a):\n",
    "    print('Using len() & replace() methods : ', len(a.replace(' ','')))\n",
    "\n",
    "def main():\n",
    "    a = input('Enter the string : ')\n",
    "    \n",
    "    spc_cnt_1(a)\n",
    "    spc_cnt_2(a)\n",
    "\n",
    "if __name__=='__main__':\n",
    "    main()"
   ]
  },
  {
   "cell_type": "markdown",
   "id": "facb271f-ff4c-474f-a8b5-766ec310465a",
   "metadata": {},
   "source": [
    "## 31. Take a username and password as input from the user. The username should be compared in a case-insensitive manner, while the password should be compared in a case-sensitive manner. The provided username and password should match the following:\n",
    "    1. Username: admin\n",
    "    2. Password: Admin@1234\n",
    "    Print a welcome message if the username and password match otherwise give 3 attempts to the user to provide the username and passwords."
   ]
  },
  {
   "cell_type": "code",
   "execution_count": 95,
   "id": "927224e3-a642-42c3-9029-b7deb01cfcc7",
   "metadata": {},
   "outputs": [
    {
     "name": "stdin",
     "output_type": "stream",
     "text": [
      "Enter username :  dfbvd\n",
      "Enter password :  bsb\n"
     ]
    },
    {
     "name": "stdout",
     "output_type": "stream",
     "text": [
      "Incorrect username and password !!\n",
      "2 Attempts left !\n"
     ]
    },
    {
     "name": "stdin",
     "output_type": "stream",
     "text": [
      "Enter username :  sbgs\n",
      "Enter password :  sfb\n"
     ]
    },
    {
     "name": "stdout",
     "output_type": "stream",
     "text": [
      "Incorrect username and password !!\n",
      "1 Attempts left !\n"
     ]
    },
    {
     "name": "stdin",
     "output_type": "stream",
     "text": [
      "Enter username :  fbsb\n",
      "Enter password :  sfb\n"
     ]
    },
    {
     "name": "stdout",
     "output_type": "stream",
     "text": [
      "Incorrect username and password !!\n",
      "0 Attempts left !\n",
      "3 Wrong attemps try after 23hrs !!\n"
     ]
    }
   ],
   "source": [
    "def main():\n",
    "    Username = 'admin'\n",
    "    Password = 'Admin@1234'\n",
    "\n",
    "    i=1\n",
    "    while i<=4:\n",
    "\n",
    "        if i>3:\n",
    "            print('3 Wrong attemps try after 23hrs !!')\n",
    "            break\n",
    "            \n",
    "        u_name = input('Enter username : ').lower()\n",
    "        passw = input('Enter password : ')\n",
    "\n",
    "        if u_name==Username and passw==Password:\n",
    "            print('Welcome !!')\n",
    "            break  \n",
    "        elif u_name==Username and passw!=Password:\n",
    "            print('Incorrect Password !!')\n",
    "        elif u_name!=Username and passw==Password:\n",
    "            print('Incorrect Username !!')\n",
    "        else:\n",
    "            print('Incorrect username and password !!')\n",
    "\n",
    "          \n",
    "        print(3-i, 'Attempts left !')\n",
    "        i+=1\n",
    "\n",
    "\n",
    "\n",
    "if __name__=='__main__':\n",
    "    main()"
   ]
  },
  {
   "cell_type": "code",
   "execution_count": null,
   "id": "64bb78f5-9bda-43ed-bf99-85d2014a9aaf",
   "metadata": {},
   "outputs": [],
   "source": []
  }
 ],
 "metadata": {
  "kernelspec": {
   "display_name": "Python 3 (ipykernel)",
   "language": "python",
   "name": "python3"
  },
  "language_info": {
   "codemirror_mode": {
    "name": "ipython",
    "version": 3
   },
   "file_extension": ".py",
   "mimetype": "text/x-python",
   "name": "python",
   "nbconvert_exporter": "python",
   "pygments_lexer": "ipython3",
   "version": "3.11.0"
  }
 },
 "nbformat": 4,
 "nbformat_minor": 5
}
